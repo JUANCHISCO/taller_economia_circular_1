{
  "nbformat": 4,
  "nbformat_minor": 0,
  "metadata": {
    "colab": {
      "provenance": [],
      "collapsed_sections": [],
      "authorship_tag": "ABX9TyNhWYkR6NJPFL/URHPWfVj0",
      "include_colab_link": true
    },
    "kernelspec": {
      "name": "python3",
      "display_name": "Python 3"
    },
    "language_info": {
      "name": "python"
    }
  },
  "cells": [
    {
      "cell_type": "markdown",
      "metadata": {
        "id": "view-in-github",
        "colab_type": "text"
      },
      "source": [
        "<a href=\"https://colab.research.google.com/github/JUANCHISCO/taller_economia_circular_1/blob/main/Taller.ipynb\" target=\"_parent\"><img src=\"https://colab.research.google.com/assets/colab-badge.svg\" alt=\"Open In Colab\"/></a>"
      ]
    },
    {
      "cell_type": "markdown",
      "source": [
        "#Taller: efecto de una arteria sobre los precios de la vivienda"
      ],
      "metadata": {
        "id": "36OZVinS6y3d"
      }
    },
    {
      "cell_type": "markdown",
      "source": [
        "##Importación de librerías y datos"
      ],
      "metadata": {
        "id": "Vjz2vx3G7cMs"
      }
    },
    {
      "cell_type": "code",
      "execution_count": 58,
      "metadata": {
        "id": "hftWN9tX6rPN"
      },
      "outputs": [],
      "source": [
        "import pandas as pd\n",
        "import numpy as np\n",
        "import seaborn as sns\n",
        "import matplotlib.pyplot as plt\n",
        "import statsmodels.api as sm"
      ]
    },
    {
      "cell_type": "code",
      "source": [
        "datos = pd.read_csv('/content/datos.csv')"
      ],
      "metadata": {
        "id": "dRudJeMu7JJN"
      },
      "execution_count": 2,
      "outputs": []
    },
    {
      "cell_type": "code",
      "source": [
        "datos"
      ],
      "metadata": {
        "colab": {
          "base_uri": "https://localhost:8080/",
          "height": 424
        },
        "id": "4r9aOFAT7RUE",
        "outputId": "8bf51f93-6a04-40b9-846e-10f4d39fefe0"
      },
      "execution_count": 3,
      "outputs": [
        {
          "output_type": "execute_result",
          "data": {
            "text/plain": [
              "      LotArea  OverallQual  OverallCond  YearBuilt  YearRemodAdd  ExterQual  \\\n",
              "0        8450            7            5         19            19          4   \n",
              "1        9600            6            8         46            46          3   \n",
              "2       11250            7            5         21            20          4   \n",
              "3        9550            7            5        107            52          3   \n",
              "4       14260            8            5         22            22          4   \n",
              "...       ...          ...          ...        ...           ...        ...   \n",
              "1455     7917            6            5         23            22          3   \n",
              "1456    13175            6            6         44            34          3   \n",
              "1457     9042            7            9         81            16          5   \n",
              "1458     9717            5            6         72            26          3   \n",
              "1459     9937            5            6         57            57          4   \n",
              "\n",
              "      ExterCond  BedroomAbvGr  GarageCars  PoolArea  SalePrice  Artery  \n",
              "0             3             3           2         0     208500       0  \n",
              "1             3             3           2         0     181500       0  \n",
              "2             3             3           2         0     223500       0  \n",
              "3             3             3           3         0     140000       0  \n",
              "4             3             4           3         0     250000       0  \n",
              "...         ...           ...         ...       ...        ...     ...  \n",
              "1455          3             3           2         0     175000       0  \n",
              "1456          3             3           2         0     210000       0  \n",
              "1457          4             4           1         0     266500       0  \n",
              "1458          3             2           1         0     142125       0  \n",
              "1459          3             3           1         0     147500       0  \n",
              "\n",
              "[1460 rows x 12 columns]"
            ],
            "text/html": [
              "\n",
              "  <div id=\"df-922c1d35-fe3c-4fd4-9766-090a41c8c08b\">\n",
              "    <div class=\"colab-df-container\">\n",
              "      <div>\n",
              "<style scoped>\n",
              "    .dataframe tbody tr th:only-of-type {\n",
              "        vertical-align: middle;\n",
              "    }\n",
              "\n",
              "    .dataframe tbody tr th {\n",
              "        vertical-align: top;\n",
              "    }\n",
              "\n",
              "    .dataframe thead th {\n",
              "        text-align: right;\n",
              "    }\n",
              "</style>\n",
              "<table border=\"1\" class=\"dataframe\">\n",
              "  <thead>\n",
              "    <tr style=\"text-align: right;\">\n",
              "      <th></th>\n",
              "      <th>LotArea</th>\n",
              "      <th>OverallQual</th>\n",
              "      <th>OverallCond</th>\n",
              "      <th>YearBuilt</th>\n",
              "      <th>YearRemodAdd</th>\n",
              "      <th>ExterQual</th>\n",
              "      <th>ExterCond</th>\n",
              "      <th>BedroomAbvGr</th>\n",
              "      <th>GarageCars</th>\n",
              "      <th>PoolArea</th>\n",
              "      <th>SalePrice</th>\n",
              "      <th>Artery</th>\n",
              "    </tr>\n",
              "  </thead>\n",
              "  <tbody>\n",
              "    <tr>\n",
              "      <th>0</th>\n",
              "      <td>8450</td>\n",
              "      <td>7</td>\n",
              "      <td>5</td>\n",
              "      <td>19</td>\n",
              "      <td>19</td>\n",
              "      <td>4</td>\n",
              "      <td>3</td>\n",
              "      <td>3</td>\n",
              "      <td>2</td>\n",
              "      <td>0</td>\n",
              "      <td>208500</td>\n",
              "      <td>0</td>\n",
              "    </tr>\n",
              "    <tr>\n",
              "      <th>1</th>\n",
              "      <td>9600</td>\n",
              "      <td>6</td>\n",
              "      <td>8</td>\n",
              "      <td>46</td>\n",
              "      <td>46</td>\n",
              "      <td>3</td>\n",
              "      <td>3</td>\n",
              "      <td>3</td>\n",
              "      <td>2</td>\n",
              "      <td>0</td>\n",
              "      <td>181500</td>\n",
              "      <td>0</td>\n",
              "    </tr>\n",
              "    <tr>\n",
              "      <th>2</th>\n",
              "      <td>11250</td>\n",
              "      <td>7</td>\n",
              "      <td>5</td>\n",
              "      <td>21</td>\n",
              "      <td>20</td>\n",
              "      <td>4</td>\n",
              "      <td>3</td>\n",
              "      <td>3</td>\n",
              "      <td>2</td>\n",
              "      <td>0</td>\n",
              "      <td>223500</td>\n",
              "      <td>0</td>\n",
              "    </tr>\n",
              "    <tr>\n",
              "      <th>3</th>\n",
              "      <td>9550</td>\n",
              "      <td>7</td>\n",
              "      <td>5</td>\n",
              "      <td>107</td>\n",
              "      <td>52</td>\n",
              "      <td>3</td>\n",
              "      <td>3</td>\n",
              "      <td>3</td>\n",
              "      <td>3</td>\n",
              "      <td>0</td>\n",
              "      <td>140000</td>\n",
              "      <td>0</td>\n",
              "    </tr>\n",
              "    <tr>\n",
              "      <th>4</th>\n",
              "      <td>14260</td>\n",
              "      <td>8</td>\n",
              "      <td>5</td>\n",
              "      <td>22</td>\n",
              "      <td>22</td>\n",
              "      <td>4</td>\n",
              "      <td>3</td>\n",
              "      <td>4</td>\n",
              "      <td>3</td>\n",
              "      <td>0</td>\n",
              "      <td>250000</td>\n",
              "      <td>0</td>\n",
              "    </tr>\n",
              "    <tr>\n",
              "      <th>...</th>\n",
              "      <td>...</td>\n",
              "      <td>...</td>\n",
              "      <td>...</td>\n",
              "      <td>...</td>\n",
              "      <td>...</td>\n",
              "      <td>...</td>\n",
              "      <td>...</td>\n",
              "      <td>...</td>\n",
              "      <td>...</td>\n",
              "      <td>...</td>\n",
              "      <td>...</td>\n",
              "      <td>...</td>\n",
              "    </tr>\n",
              "    <tr>\n",
              "      <th>1455</th>\n",
              "      <td>7917</td>\n",
              "      <td>6</td>\n",
              "      <td>5</td>\n",
              "      <td>23</td>\n",
              "      <td>22</td>\n",
              "      <td>3</td>\n",
              "      <td>3</td>\n",
              "      <td>3</td>\n",
              "      <td>2</td>\n",
              "      <td>0</td>\n",
              "      <td>175000</td>\n",
              "      <td>0</td>\n",
              "    </tr>\n",
              "    <tr>\n",
              "      <th>1456</th>\n",
              "      <td>13175</td>\n",
              "      <td>6</td>\n",
              "      <td>6</td>\n",
              "      <td>44</td>\n",
              "      <td>34</td>\n",
              "      <td>3</td>\n",
              "      <td>3</td>\n",
              "      <td>3</td>\n",
              "      <td>2</td>\n",
              "      <td>0</td>\n",
              "      <td>210000</td>\n",
              "      <td>0</td>\n",
              "    </tr>\n",
              "    <tr>\n",
              "      <th>1457</th>\n",
              "      <td>9042</td>\n",
              "      <td>7</td>\n",
              "      <td>9</td>\n",
              "      <td>81</td>\n",
              "      <td>16</td>\n",
              "      <td>5</td>\n",
              "      <td>4</td>\n",
              "      <td>4</td>\n",
              "      <td>1</td>\n",
              "      <td>0</td>\n",
              "      <td>266500</td>\n",
              "      <td>0</td>\n",
              "    </tr>\n",
              "    <tr>\n",
              "      <th>1458</th>\n",
              "      <td>9717</td>\n",
              "      <td>5</td>\n",
              "      <td>6</td>\n",
              "      <td>72</td>\n",
              "      <td>26</td>\n",
              "      <td>3</td>\n",
              "      <td>3</td>\n",
              "      <td>2</td>\n",
              "      <td>1</td>\n",
              "      <td>0</td>\n",
              "      <td>142125</td>\n",
              "      <td>0</td>\n",
              "    </tr>\n",
              "    <tr>\n",
              "      <th>1459</th>\n",
              "      <td>9937</td>\n",
              "      <td>5</td>\n",
              "      <td>6</td>\n",
              "      <td>57</td>\n",
              "      <td>57</td>\n",
              "      <td>4</td>\n",
              "      <td>3</td>\n",
              "      <td>3</td>\n",
              "      <td>1</td>\n",
              "      <td>0</td>\n",
              "      <td>147500</td>\n",
              "      <td>0</td>\n",
              "    </tr>\n",
              "  </tbody>\n",
              "</table>\n",
              "<p>1460 rows × 12 columns</p>\n",
              "</div>\n",
              "      <button class=\"colab-df-convert\" onclick=\"convertToInteractive('df-922c1d35-fe3c-4fd4-9766-090a41c8c08b')\"\n",
              "              title=\"Convert this dataframe to an interactive table.\"\n",
              "              style=\"display:none;\">\n",
              "        \n",
              "  <svg xmlns=\"http://www.w3.org/2000/svg\" height=\"24px\"viewBox=\"0 0 24 24\"\n",
              "       width=\"24px\">\n",
              "    <path d=\"M0 0h24v24H0V0z\" fill=\"none\"/>\n",
              "    <path d=\"M18.56 5.44l.94 2.06.94-2.06 2.06-.94-2.06-.94-.94-2.06-.94 2.06-2.06.94zm-11 1L8.5 8.5l.94-2.06 2.06-.94-2.06-.94L8.5 2.5l-.94 2.06-2.06.94zm10 10l.94 2.06.94-2.06 2.06-.94-2.06-.94-.94-2.06-.94 2.06-2.06.94z\"/><path d=\"M17.41 7.96l-1.37-1.37c-.4-.4-.92-.59-1.43-.59-.52 0-1.04.2-1.43.59L10.3 9.45l-7.72 7.72c-.78.78-.78 2.05 0 2.83L4 21.41c.39.39.9.59 1.41.59.51 0 1.02-.2 1.41-.59l7.78-7.78 2.81-2.81c.8-.78.8-2.07 0-2.86zM5.41 20L4 18.59l7.72-7.72 1.47 1.35L5.41 20z\"/>\n",
              "  </svg>\n",
              "      </button>\n",
              "      \n",
              "  <style>\n",
              "    .colab-df-container {\n",
              "      display:flex;\n",
              "      flex-wrap:wrap;\n",
              "      gap: 12px;\n",
              "    }\n",
              "\n",
              "    .colab-df-convert {\n",
              "      background-color: #E8F0FE;\n",
              "      border: none;\n",
              "      border-radius: 50%;\n",
              "      cursor: pointer;\n",
              "      display: none;\n",
              "      fill: #1967D2;\n",
              "      height: 32px;\n",
              "      padding: 0 0 0 0;\n",
              "      width: 32px;\n",
              "    }\n",
              "\n",
              "    .colab-df-convert:hover {\n",
              "      background-color: #E2EBFA;\n",
              "      box-shadow: 0px 1px 2px rgba(60, 64, 67, 0.3), 0px 1px 3px 1px rgba(60, 64, 67, 0.15);\n",
              "      fill: #174EA6;\n",
              "    }\n",
              "\n",
              "    [theme=dark] .colab-df-convert {\n",
              "      background-color: #3B4455;\n",
              "      fill: #D2E3FC;\n",
              "    }\n",
              "\n",
              "    [theme=dark] .colab-df-convert:hover {\n",
              "      background-color: #434B5C;\n",
              "      box-shadow: 0px 1px 3px 1px rgba(0, 0, 0, 0.15);\n",
              "      filter: drop-shadow(0px 1px 2px rgba(0, 0, 0, 0.3));\n",
              "      fill: #FFFFFF;\n",
              "    }\n",
              "  </style>\n",
              "\n",
              "      <script>\n",
              "        const buttonEl =\n",
              "          document.querySelector('#df-922c1d35-fe3c-4fd4-9766-090a41c8c08b button.colab-df-convert');\n",
              "        buttonEl.style.display =\n",
              "          google.colab.kernel.accessAllowed ? 'block' : 'none';\n",
              "\n",
              "        async function convertToInteractive(key) {\n",
              "          const element = document.querySelector('#df-922c1d35-fe3c-4fd4-9766-090a41c8c08b');\n",
              "          const dataTable =\n",
              "            await google.colab.kernel.invokeFunction('convertToInteractive',\n",
              "                                                     [key], {});\n",
              "          if (!dataTable) return;\n",
              "\n",
              "          const docLinkHtml = 'Like what you see? Visit the ' +\n",
              "            '<a target=\"_blank\" href=https://colab.research.google.com/notebooks/data_table.ipynb>data table notebook</a>'\n",
              "            + ' to learn more about interactive tables.';\n",
              "          element.innerHTML = '';\n",
              "          dataTable['output_type'] = 'display_data';\n",
              "          await google.colab.output.renderOutput(dataTable, element);\n",
              "          const docLink = document.createElement('div');\n",
              "          docLink.innerHTML = docLinkHtml;\n",
              "          element.appendChild(docLink);\n",
              "        }\n",
              "      </script>\n",
              "    </div>\n",
              "  </div>\n",
              "  "
            ]
          },
          "metadata": {},
          "execution_count": 3
        }
      ]
    },
    {
      "cell_type": "markdown",
      "source": [
        "##Exploración inicial"
      ],
      "metadata": {
        "id": "NBH0Adrt7duU"
      }
    },
    {
      "cell_type": "code",
      "source": [
        "datos.head(10)"
      ],
      "metadata": {
        "colab": {
          "base_uri": "https://localhost:8080/",
          "height": 363
        },
        "id": "_Po_pksi7R-c",
        "outputId": "c771ef95-2a53-442e-e878-b43d4b3f99a9"
      },
      "execution_count": 4,
      "outputs": [
        {
          "output_type": "execute_result",
          "data": {
            "text/plain": [
              "   LotArea  OverallQual  OverallCond  YearBuilt  YearRemodAdd  ExterQual  \\\n",
              "0     8450            7            5         19            19          4   \n",
              "1     9600            6            8         46            46          3   \n",
              "2    11250            7            5         21            20          4   \n",
              "3     9550            7            5        107            52          3   \n",
              "4    14260            8            5         22            22          4   \n",
              "5    14115            5            5         29            27          3   \n",
              "6    10084            8            5         18            17          4   \n",
              "7    10382            7            6         49            49          3   \n",
              "8     6120            7            5         91            72          3   \n",
              "9     7420            5            6         83            72          3   \n",
              "\n",
              "   ExterCond  BedroomAbvGr  GarageCars  PoolArea  SalePrice  Artery  \n",
              "0          3             3           2         0     208500       0  \n",
              "1          3             3           2         0     181500       0  \n",
              "2          3             3           2         0     223500       0  \n",
              "3          3             3           3         0     140000       0  \n",
              "4          3             4           3         0     250000       0  \n",
              "5          3             1           2         0     143000       0  \n",
              "6          3             3           2         0     307000       0  \n",
              "7          3             3           2         0     200000       0  \n",
              "8          3             2           2         0     129900       1  \n",
              "9          3             2           1         0     118000       1  "
            ],
            "text/html": [
              "\n",
              "  <div id=\"df-af1a028c-1e2a-4843-a5f5-e426746a386a\">\n",
              "    <div class=\"colab-df-container\">\n",
              "      <div>\n",
              "<style scoped>\n",
              "    .dataframe tbody tr th:only-of-type {\n",
              "        vertical-align: middle;\n",
              "    }\n",
              "\n",
              "    .dataframe tbody tr th {\n",
              "        vertical-align: top;\n",
              "    }\n",
              "\n",
              "    .dataframe thead th {\n",
              "        text-align: right;\n",
              "    }\n",
              "</style>\n",
              "<table border=\"1\" class=\"dataframe\">\n",
              "  <thead>\n",
              "    <tr style=\"text-align: right;\">\n",
              "      <th></th>\n",
              "      <th>LotArea</th>\n",
              "      <th>OverallQual</th>\n",
              "      <th>OverallCond</th>\n",
              "      <th>YearBuilt</th>\n",
              "      <th>YearRemodAdd</th>\n",
              "      <th>ExterQual</th>\n",
              "      <th>ExterCond</th>\n",
              "      <th>BedroomAbvGr</th>\n",
              "      <th>GarageCars</th>\n",
              "      <th>PoolArea</th>\n",
              "      <th>SalePrice</th>\n",
              "      <th>Artery</th>\n",
              "    </tr>\n",
              "  </thead>\n",
              "  <tbody>\n",
              "    <tr>\n",
              "      <th>0</th>\n",
              "      <td>8450</td>\n",
              "      <td>7</td>\n",
              "      <td>5</td>\n",
              "      <td>19</td>\n",
              "      <td>19</td>\n",
              "      <td>4</td>\n",
              "      <td>3</td>\n",
              "      <td>3</td>\n",
              "      <td>2</td>\n",
              "      <td>0</td>\n",
              "      <td>208500</td>\n",
              "      <td>0</td>\n",
              "    </tr>\n",
              "    <tr>\n",
              "      <th>1</th>\n",
              "      <td>9600</td>\n",
              "      <td>6</td>\n",
              "      <td>8</td>\n",
              "      <td>46</td>\n",
              "      <td>46</td>\n",
              "      <td>3</td>\n",
              "      <td>3</td>\n",
              "      <td>3</td>\n",
              "      <td>2</td>\n",
              "      <td>0</td>\n",
              "      <td>181500</td>\n",
              "      <td>0</td>\n",
              "    </tr>\n",
              "    <tr>\n",
              "      <th>2</th>\n",
              "      <td>11250</td>\n",
              "      <td>7</td>\n",
              "      <td>5</td>\n",
              "      <td>21</td>\n",
              "      <td>20</td>\n",
              "      <td>4</td>\n",
              "      <td>3</td>\n",
              "      <td>3</td>\n",
              "      <td>2</td>\n",
              "      <td>0</td>\n",
              "      <td>223500</td>\n",
              "      <td>0</td>\n",
              "    </tr>\n",
              "    <tr>\n",
              "      <th>3</th>\n",
              "      <td>9550</td>\n",
              "      <td>7</td>\n",
              "      <td>5</td>\n",
              "      <td>107</td>\n",
              "      <td>52</td>\n",
              "      <td>3</td>\n",
              "      <td>3</td>\n",
              "      <td>3</td>\n",
              "      <td>3</td>\n",
              "      <td>0</td>\n",
              "      <td>140000</td>\n",
              "      <td>0</td>\n",
              "    </tr>\n",
              "    <tr>\n",
              "      <th>4</th>\n",
              "      <td>14260</td>\n",
              "      <td>8</td>\n",
              "      <td>5</td>\n",
              "      <td>22</td>\n",
              "      <td>22</td>\n",
              "      <td>4</td>\n",
              "      <td>3</td>\n",
              "      <td>4</td>\n",
              "      <td>3</td>\n",
              "      <td>0</td>\n",
              "      <td>250000</td>\n",
              "      <td>0</td>\n",
              "    </tr>\n",
              "    <tr>\n",
              "      <th>5</th>\n",
              "      <td>14115</td>\n",
              "      <td>5</td>\n",
              "      <td>5</td>\n",
              "      <td>29</td>\n",
              "      <td>27</td>\n",
              "      <td>3</td>\n",
              "      <td>3</td>\n",
              "      <td>1</td>\n",
              "      <td>2</td>\n",
              "      <td>0</td>\n",
              "      <td>143000</td>\n",
              "      <td>0</td>\n",
              "    </tr>\n",
              "    <tr>\n",
              "      <th>6</th>\n",
              "      <td>10084</td>\n",
              "      <td>8</td>\n",
              "      <td>5</td>\n",
              "      <td>18</td>\n",
              "      <td>17</td>\n",
              "      <td>4</td>\n",
              "      <td>3</td>\n",
              "      <td>3</td>\n",
              "      <td>2</td>\n",
              "      <td>0</td>\n",
              "      <td>307000</td>\n",
              "      <td>0</td>\n",
              "    </tr>\n",
              "    <tr>\n",
              "      <th>7</th>\n",
              "      <td>10382</td>\n",
              "      <td>7</td>\n",
              "      <td>6</td>\n",
              "      <td>49</td>\n",
              "      <td>49</td>\n",
              "      <td>3</td>\n",
              "      <td>3</td>\n",
              "      <td>3</td>\n",
              "      <td>2</td>\n",
              "      <td>0</td>\n",
              "      <td>200000</td>\n",
              "      <td>0</td>\n",
              "    </tr>\n",
              "    <tr>\n",
              "      <th>8</th>\n",
              "      <td>6120</td>\n",
              "      <td>7</td>\n",
              "      <td>5</td>\n",
              "      <td>91</td>\n",
              "      <td>72</td>\n",
              "      <td>3</td>\n",
              "      <td>3</td>\n",
              "      <td>2</td>\n",
              "      <td>2</td>\n",
              "      <td>0</td>\n",
              "      <td>129900</td>\n",
              "      <td>1</td>\n",
              "    </tr>\n",
              "    <tr>\n",
              "      <th>9</th>\n",
              "      <td>7420</td>\n",
              "      <td>5</td>\n",
              "      <td>6</td>\n",
              "      <td>83</td>\n",
              "      <td>72</td>\n",
              "      <td>3</td>\n",
              "      <td>3</td>\n",
              "      <td>2</td>\n",
              "      <td>1</td>\n",
              "      <td>0</td>\n",
              "      <td>118000</td>\n",
              "      <td>1</td>\n",
              "    </tr>\n",
              "  </tbody>\n",
              "</table>\n",
              "</div>\n",
              "      <button class=\"colab-df-convert\" onclick=\"convertToInteractive('df-af1a028c-1e2a-4843-a5f5-e426746a386a')\"\n",
              "              title=\"Convert this dataframe to an interactive table.\"\n",
              "              style=\"display:none;\">\n",
              "        \n",
              "  <svg xmlns=\"http://www.w3.org/2000/svg\" height=\"24px\"viewBox=\"0 0 24 24\"\n",
              "       width=\"24px\">\n",
              "    <path d=\"M0 0h24v24H0V0z\" fill=\"none\"/>\n",
              "    <path d=\"M18.56 5.44l.94 2.06.94-2.06 2.06-.94-2.06-.94-.94-2.06-.94 2.06-2.06.94zm-11 1L8.5 8.5l.94-2.06 2.06-.94-2.06-.94L8.5 2.5l-.94 2.06-2.06.94zm10 10l.94 2.06.94-2.06 2.06-.94-2.06-.94-.94-2.06-.94 2.06-2.06.94z\"/><path d=\"M17.41 7.96l-1.37-1.37c-.4-.4-.92-.59-1.43-.59-.52 0-1.04.2-1.43.59L10.3 9.45l-7.72 7.72c-.78.78-.78 2.05 0 2.83L4 21.41c.39.39.9.59 1.41.59.51 0 1.02-.2 1.41-.59l7.78-7.78 2.81-2.81c.8-.78.8-2.07 0-2.86zM5.41 20L4 18.59l7.72-7.72 1.47 1.35L5.41 20z\"/>\n",
              "  </svg>\n",
              "      </button>\n",
              "      \n",
              "  <style>\n",
              "    .colab-df-container {\n",
              "      display:flex;\n",
              "      flex-wrap:wrap;\n",
              "      gap: 12px;\n",
              "    }\n",
              "\n",
              "    .colab-df-convert {\n",
              "      background-color: #E8F0FE;\n",
              "      border: none;\n",
              "      border-radius: 50%;\n",
              "      cursor: pointer;\n",
              "      display: none;\n",
              "      fill: #1967D2;\n",
              "      height: 32px;\n",
              "      padding: 0 0 0 0;\n",
              "      width: 32px;\n",
              "    }\n",
              "\n",
              "    .colab-df-convert:hover {\n",
              "      background-color: #E2EBFA;\n",
              "      box-shadow: 0px 1px 2px rgba(60, 64, 67, 0.3), 0px 1px 3px 1px rgba(60, 64, 67, 0.15);\n",
              "      fill: #174EA6;\n",
              "    }\n",
              "\n",
              "    [theme=dark] .colab-df-convert {\n",
              "      background-color: #3B4455;\n",
              "      fill: #D2E3FC;\n",
              "    }\n",
              "\n",
              "    [theme=dark] .colab-df-convert:hover {\n",
              "      background-color: #434B5C;\n",
              "      box-shadow: 0px 1px 3px 1px rgba(0, 0, 0, 0.15);\n",
              "      filter: drop-shadow(0px 1px 2px rgba(0, 0, 0, 0.3));\n",
              "      fill: #FFFFFF;\n",
              "    }\n",
              "  </style>\n",
              "\n",
              "      <script>\n",
              "        const buttonEl =\n",
              "          document.querySelector('#df-af1a028c-1e2a-4843-a5f5-e426746a386a button.colab-df-convert');\n",
              "        buttonEl.style.display =\n",
              "          google.colab.kernel.accessAllowed ? 'block' : 'none';\n",
              "\n",
              "        async function convertToInteractive(key) {\n",
              "          const element = document.querySelector('#df-af1a028c-1e2a-4843-a5f5-e426746a386a');\n",
              "          const dataTable =\n",
              "            await google.colab.kernel.invokeFunction('convertToInteractive',\n",
              "                                                     [key], {});\n",
              "          if (!dataTable) return;\n",
              "\n",
              "          const docLinkHtml = 'Like what you see? Visit the ' +\n",
              "            '<a target=\"_blank\" href=https://colab.research.google.com/notebooks/data_table.ipynb>data table notebook</a>'\n",
              "            + ' to learn more about interactive tables.';\n",
              "          element.innerHTML = '';\n",
              "          dataTable['output_type'] = 'display_data';\n",
              "          await google.colab.output.renderOutput(dataTable, element);\n",
              "          const docLink = document.createElement('div');\n",
              "          docLink.innerHTML = docLinkHtml;\n",
              "          element.appendChild(docLink);\n",
              "        }\n",
              "      </script>\n",
              "    </div>\n",
              "  </div>\n",
              "  "
            ]
          },
          "metadata": {},
          "execution_count": 4
        }
      ]
    },
    {
      "cell_type": "code",
      "source": [
        "datos.tail(10)"
      ],
      "metadata": {
        "colab": {
          "base_uri": "https://localhost:8080/",
          "height": 363
        },
        "id": "_ooVvDBt7zIS",
        "outputId": "e45d91fd-8f60-4fcf-c2f5-7e56d1cea458"
      },
      "execution_count": 5,
      "outputs": [
        {
          "output_type": "execute_result",
          "data": {
            "text/plain": [
              "      LotArea  OverallQual  OverallCond  YearBuilt  YearRemodAdd  ExterQual  \\\n",
              "1450     9000            5            5         48            48          3   \n",
              "1451     9262            8            5         14            13          4   \n",
              "1452     3675            5            5         17            17          3   \n",
              "1453    17217            5            5         16            16          3   \n",
              "1454     7500            7            5         18            17          4   \n",
              "1455     7917            6            5         23            22          3   \n",
              "1456    13175            6            6         44            34          3   \n",
              "1457     9042            7            9         81            16          5   \n",
              "1458     9717            5            6         72            26          3   \n",
              "1459     9937            5            6         57            57          4   \n",
              "\n",
              "      ExterCond  BedroomAbvGr  GarageCars  PoolArea  SalePrice  Artery  \n",
              "1450          3             4           0         0     136000       0  \n",
              "1451          3             3           3         0     287090       0  \n",
              "1452          3             2           2         0     145000       0  \n",
              "1453          3             3           0         0      84500       0  \n",
              "1454          3             2           2         0     185000       0  \n",
              "1455          3             3           2         0     175000       0  \n",
              "1456          3             3           2         0     210000       0  \n",
              "1457          4             4           1         0     266500       0  \n",
              "1458          3             2           1         0     142125       0  \n",
              "1459          3             3           1         0     147500       0  "
            ],
            "text/html": [
              "\n",
              "  <div id=\"df-ff590f3c-5627-4711-9092-5e5f6305ecc7\">\n",
              "    <div class=\"colab-df-container\">\n",
              "      <div>\n",
              "<style scoped>\n",
              "    .dataframe tbody tr th:only-of-type {\n",
              "        vertical-align: middle;\n",
              "    }\n",
              "\n",
              "    .dataframe tbody tr th {\n",
              "        vertical-align: top;\n",
              "    }\n",
              "\n",
              "    .dataframe thead th {\n",
              "        text-align: right;\n",
              "    }\n",
              "</style>\n",
              "<table border=\"1\" class=\"dataframe\">\n",
              "  <thead>\n",
              "    <tr style=\"text-align: right;\">\n",
              "      <th></th>\n",
              "      <th>LotArea</th>\n",
              "      <th>OverallQual</th>\n",
              "      <th>OverallCond</th>\n",
              "      <th>YearBuilt</th>\n",
              "      <th>YearRemodAdd</th>\n",
              "      <th>ExterQual</th>\n",
              "      <th>ExterCond</th>\n",
              "      <th>BedroomAbvGr</th>\n",
              "      <th>GarageCars</th>\n",
              "      <th>PoolArea</th>\n",
              "      <th>SalePrice</th>\n",
              "      <th>Artery</th>\n",
              "    </tr>\n",
              "  </thead>\n",
              "  <tbody>\n",
              "    <tr>\n",
              "      <th>1450</th>\n",
              "      <td>9000</td>\n",
              "      <td>5</td>\n",
              "      <td>5</td>\n",
              "      <td>48</td>\n",
              "      <td>48</td>\n",
              "      <td>3</td>\n",
              "      <td>3</td>\n",
              "      <td>4</td>\n",
              "      <td>0</td>\n",
              "      <td>0</td>\n",
              "      <td>136000</td>\n",
              "      <td>0</td>\n",
              "    </tr>\n",
              "    <tr>\n",
              "      <th>1451</th>\n",
              "      <td>9262</td>\n",
              "      <td>8</td>\n",
              "      <td>5</td>\n",
              "      <td>14</td>\n",
              "      <td>13</td>\n",
              "      <td>4</td>\n",
              "      <td>3</td>\n",
              "      <td>3</td>\n",
              "      <td>3</td>\n",
              "      <td>0</td>\n",
              "      <td>287090</td>\n",
              "      <td>0</td>\n",
              "    </tr>\n",
              "    <tr>\n",
              "      <th>1452</th>\n",
              "      <td>3675</td>\n",
              "      <td>5</td>\n",
              "      <td>5</td>\n",
              "      <td>17</td>\n",
              "      <td>17</td>\n",
              "      <td>3</td>\n",
              "      <td>3</td>\n",
              "      <td>2</td>\n",
              "      <td>2</td>\n",
              "      <td>0</td>\n",
              "      <td>145000</td>\n",
              "      <td>0</td>\n",
              "    </tr>\n",
              "    <tr>\n",
              "      <th>1453</th>\n",
              "      <td>17217</td>\n",
              "      <td>5</td>\n",
              "      <td>5</td>\n",
              "      <td>16</td>\n",
              "      <td>16</td>\n",
              "      <td>3</td>\n",
              "      <td>3</td>\n",
              "      <td>3</td>\n",
              "      <td>0</td>\n",
              "      <td>0</td>\n",
              "      <td>84500</td>\n",
              "      <td>0</td>\n",
              "    </tr>\n",
              "    <tr>\n",
              "      <th>1454</th>\n",
              "      <td>7500</td>\n",
              "      <td>7</td>\n",
              "      <td>5</td>\n",
              "      <td>18</td>\n",
              "      <td>17</td>\n",
              "      <td>4</td>\n",
              "      <td>3</td>\n",
              "      <td>2</td>\n",
              "      <td>2</td>\n",
              "      <td>0</td>\n",
              "      <td>185000</td>\n",
              "      <td>0</td>\n",
              "    </tr>\n",
              "    <tr>\n",
              "      <th>1455</th>\n",
              "      <td>7917</td>\n",
              "      <td>6</td>\n",
              "      <td>5</td>\n",
              "      <td>23</td>\n",
              "      <td>22</td>\n",
              "      <td>3</td>\n",
              "      <td>3</td>\n",
              "      <td>3</td>\n",
              "      <td>2</td>\n",
              "      <td>0</td>\n",
              "      <td>175000</td>\n",
              "      <td>0</td>\n",
              "    </tr>\n",
              "    <tr>\n",
              "      <th>1456</th>\n",
              "      <td>13175</td>\n",
              "      <td>6</td>\n",
              "      <td>6</td>\n",
              "      <td>44</td>\n",
              "      <td>34</td>\n",
              "      <td>3</td>\n",
              "      <td>3</td>\n",
              "      <td>3</td>\n",
              "      <td>2</td>\n",
              "      <td>0</td>\n",
              "      <td>210000</td>\n",
              "      <td>0</td>\n",
              "    </tr>\n",
              "    <tr>\n",
              "      <th>1457</th>\n",
              "      <td>9042</td>\n",
              "      <td>7</td>\n",
              "      <td>9</td>\n",
              "      <td>81</td>\n",
              "      <td>16</td>\n",
              "      <td>5</td>\n",
              "      <td>4</td>\n",
              "      <td>4</td>\n",
              "      <td>1</td>\n",
              "      <td>0</td>\n",
              "      <td>266500</td>\n",
              "      <td>0</td>\n",
              "    </tr>\n",
              "    <tr>\n",
              "      <th>1458</th>\n",
              "      <td>9717</td>\n",
              "      <td>5</td>\n",
              "      <td>6</td>\n",
              "      <td>72</td>\n",
              "      <td>26</td>\n",
              "      <td>3</td>\n",
              "      <td>3</td>\n",
              "      <td>2</td>\n",
              "      <td>1</td>\n",
              "      <td>0</td>\n",
              "      <td>142125</td>\n",
              "      <td>0</td>\n",
              "    </tr>\n",
              "    <tr>\n",
              "      <th>1459</th>\n",
              "      <td>9937</td>\n",
              "      <td>5</td>\n",
              "      <td>6</td>\n",
              "      <td>57</td>\n",
              "      <td>57</td>\n",
              "      <td>4</td>\n",
              "      <td>3</td>\n",
              "      <td>3</td>\n",
              "      <td>1</td>\n",
              "      <td>0</td>\n",
              "      <td>147500</td>\n",
              "      <td>0</td>\n",
              "    </tr>\n",
              "  </tbody>\n",
              "</table>\n",
              "</div>\n",
              "      <button class=\"colab-df-convert\" onclick=\"convertToInteractive('df-ff590f3c-5627-4711-9092-5e5f6305ecc7')\"\n",
              "              title=\"Convert this dataframe to an interactive table.\"\n",
              "              style=\"display:none;\">\n",
              "        \n",
              "  <svg xmlns=\"http://www.w3.org/2000/svg\" height=\"24px\"viewBox=\"0 0 24 24\"\n",
              "       width=\"24px\">\n",
              "    <path d=\"M0 0h24v24H0V0z\" fill=\"none\"/>\n",
              "    <path d=\"M18.56 5.44l.94 2.06.94-2.06 2.06-.94-2.06-.94-.94-2.06-.94 2.06-2.06.94zm-11 1L8.5 8.5l.94-2.06 2.06-.94-2.06-.94L8.5 2.5l-.94 2.06-2.06.94zm10 10l.94 2.06.94-2.06 2.06-.94-2.06-.94-.94-2.06-.94 2.06-2.06.94z\"/><path d=\"M17.41 7.96l-1.37-1.37c-.4-.4-.92-.59-1.43-.59-.52 0-1.04.2-1.43.59L10.3 9.45l-7.72 7.72c-.78.78-.78 2.05 0 2.83L4 21.41c.39.39.9.59 1.41.59.51 0 1.02-.2 1.41-.59l7.78-7.78 2.81-2.81c.8-.78.8-2.07 0-2.86zM5.41 20L4 18.59l7.72-7.72 1.47 1.35L5.41 20z\"/>\n",
              "  </svg>\n",
              "      </button>\n",
              "      \n",
              "  <style>\n",
              "    .colab-df-container {\n",
              "      display:flex;\n",
              "      flex-wrap:wrap;\n",
              "      gap: 12px;\n",
              "    }\n",
              "\n",
              "    .colab-df-convert {\n",
              "      background-color: #E8F0FE;\n",
              "      border: none;\n",
              "      border-radius: 50%;\n",
              "      cursor: pointer;\n",
              "      display: none;\n",
              "      fill: #1967D2;\n",
              "      height: 32px;\n",
              "      padding: 0 0 0 0;\n",
              "      width: 32px;\n",
              "    }\n",
              "\n",
              "    .colab-df-convert:hover {\n",
              "      background-color: #E2EBFA;\n",
              "      box-shadow: 0px 1px 2px rgba(60, 64, 67, 0.3), 0px 1px 3px 1px rgba(60, 64, 67, 0.15);\n",
              "      fill: #174EA6;\n",
              "    }\n",
              "\n",
              "    [theme=dark] .colab-df-convert {\n",
              "      background-color: #3B4455;\n",
              "      fill: #D2E3FC;\n",
              "    }\n",
              "\n",
              "    [theme=dark] .colab-df-convert:hover {\n",
              "      background-color: #434B5C;\n",
              "      box-shadow: 0px 1px 3px 1px rgba(0, 0, 0, 0.15);\n",
              "      filter: drop-shadow(0px 1px 2px rgba(0, 0, 0, 0.3));\n",
              "      fill: #FFFFFF;\n",
              "    }\n",
              "  </style>\n",
              "\n",
              "      <script>\n",
              "        const buttonEl =\n",
              "          document.querySelector('#df-ff590f3c-5627-4711-9092-5e5f6305ecc7 button.colab-df-convert');\n",
              "        buttonEl.style.display =\n",
              "          google.colab.kernel.accessAllowed ? 'block' : 'none';\n",
              "\n",
              "        async function convertToInteractive(key) {\n",
              "          const element = document.querySelector('#df-ff590f3c-5627-4711-9092-5e5f6305ecc7');\n",
              "          const dataTable =\n",
              "            await google.colab.kernel.invokeFunction('convertToInteractive',\n",
              "                                                     [key], {});\n",
              "          if (!dataTable) return;\n",
              "\n",
              "          const docLinkHtml = 'Like what you see? Visit the ' +\n",
              "            '<a target=\"_blank\" href=https://colab.research.google.com/notebooks/data_table.ipynb>data table notebook</a>'\n",
              "            + ' to learn more about interactive tables.';\n",
              "          element.innerHTML = '';\n",
              "          dataTable['output_type'] = 'display_data';\n",
              "          await google.colab.output.renderOutput(dataTable, element);\n",
              "          const docLink = document.createElement('div');\n",
              "          docLink.innerHTML = docLinkHtml;\n",
              "          element.appendChild(docLink);\n",
              "        }\n",
              "      </script>\n",
              "    </div>\n",
              "  </div>\n",
              "  "
            ]
          },
          "metadata": {},
          "execution_count": 5
        }
      ]
    },
    {
      "cell_type": "code",
      "source": [
        "datos.info()"
      ],
      "metadata": {
        "colab": {
          "base_uri": "https://localhost:8080/"
        },
        "id": "NkH7_lzw74Qp",
        "outputId": "fc3d40fe-ff88-4dda-dc8e-58105112fc4c"
      },
      "execution_count": 6,
      "outputs": [
        {
          "output_type": "stream",
          "name": "stdout",
          "text": [
            "<class 'pandas.core.frame.DataFrame'>\n",
            "RangeIndex: 1460 entries, 0 to 1459\n",
            "Data columns (total 12 columns):\n",
            " #   Column        Non-Null Count  Dtype\n",
            "---  ------        --------------  -----\n",
            " 0   LotArea       1460 non-null   int64\n",
            " 1   OverallQual   1460 non-null   int64\n",
            " 2   OverallCond   1460 non-null   int64\n",
            " 3   YearBuilt     1460 non-null   int64\n",
            " 4   YearRemodAdd  1460 non-null   int64\n",
            " 5   ExterQual     1460 non-null   int64\n",
            " 6   ExterCond     1460 non-null   int64\n",
            " 7   BedroomAbvGr  1460 non-null   int64\n",
            " 8   GarageCars    1460 non-null   int64\n",
            " 9   PoolArea      1460 non-null   int64\n",
            " 10  SalePrice     1460 non-null   int64\n",
            " 11  Artery        1460 non-null   int64\n",
            "dtypes: int64(12)\n",
            "memory usage: 137.0 KB\n"
          ]
        }
      ]
    },
    {
      "cell_type": "code",
      "source": [
        "datos.isna().sum()"
      ],
      "metadata": {
        "colab": {
          "base_uri": "https://localhost:8080/"
        },
        "id": "gMhcKQj68F1P",
        "outputId": "8f10df62-6daa-4665-e297-1460adb03b22"
      },
      "execution_count": 7,
      "outputs": [
        {
          "output_type": "execute_result",
          "data": {
            "text/plain": [
              "LotArea         0\n",
              "OverallQual     0\n",
              "OverallCond     0\n",
              "YearBuilt       0\n",
              "YearRemodAdd    0\n",
              "ExterQual       0\n",
              "ExterCond       0\n",
              "BedroomAbvGr    0\n",
              "GarageCars      0\n",
              "PoolArea        0\n",
              "SalePrice       0\n",
              "Artery          0\n",
              "dtype: int64"
            ]
          },
          "metadata": {},
          "execution_count": 7
        }
      ]
    },
    {
      "cell_type": "code",
      "source": [
        "datos.describe()"
      ],
      "metadata": {
        "colab": {
          "base_uri": "https://localhost:8080/",
          "height": 300
        },
        "id": "PTr2xFCv8LRX",
        "outputId": "4ab3da25-0fc7-4952-f6aa-09a99a3ed1f9"
      },
      "execution_count": 8,
      "outputs": [
        {
          "output_type": "execute_result",
          "data": {
            "text/plain": [
              "             LotArea  OverallQual  OverallCond    YearBuilt  YearRemodAdd  \\\n",
              "count    1460.000000  1460.000000  1460.000000  1460.000000   1460.000000   \n",
              "mean    10516.828082     6.099315     5.575342    50.732192     37.134247   \n",
              "std      9981.264932     1.382997     1.112799    30.202904     20.645407   \n",
              "min      1300.000000     1.000000     1.000000    12.000000     12.000000   \n",
              "25%      7553.500000     5.000000     5.000000    22.000000     18.000000   \n",
              "50%      9478.500000     6.000000     5.000000    49.000000     28.000000   \n",
              "75%     11601.500000     7.000000     6.000000    68.000000     55.000000   \n",
              "max    215245.000000    10.000000     9.000000   150.000000     72.000000   \n",
              "\n",
              "        ExterQual    ExterCond  BedroomAbvGr   GarageCars     PoolArea  \\\n",
              "count  1460.00000  1460.000000   1460.000000  1460.000000  1460.000000   \n",
              "mean      3.39589     3.083562      2.866438     1.767123     2.758904   \n",
              "std       0.57428     0.351054      0.815778     0.747315    40.177307   \n",
              "min       2.00000     1.000000      0.000000     0.000000     0.000000   \n",
              "25%       3.00000     3.000000      2.000000     1.000000     0.000000   \n",
              "50%       3.00000     3.000000      3.000000     2.000000     0.000000   \n",
              "75%       4.00000     3.000000      3.000000     2.000000     0.000000   \n",
              "max       5.00000     5.000000      8.000000     4.000000   738.000000   \n",
              "\n",
              "           SalePrice       Artery  \n",
              "count    1460.000000  1460.000000  \n",
              "mean   180921.195890     0.032877  \n",
              "std     79442.502883     0.178375  \n",
              "min     34900.000000     0.000000  \n",
              "25%    129975.000000     0.000000  \n",
              "50%    163000.000000     0.000000  \n",
              "75%    214000.000000     0.000000  \n",
              "max    755000.000000     1.000000  "
            ],
            "text/html": [
              "\n",
              "  <div id=\"df-1401128b-a85c-4d45-bc3b-b72b6ce8cc9b\">\n",
              "    <div class=\"colab-df-container\">\n",
              "      <div>\n",
              "<style scoped>\n",
              "    .dataframe tbody tr th:only-of-type {\n",
              "        vertical-align: middle;\n",
              "    }\n",
              "\n",
              "    .dataframe tbody tr th {\n",
              "        vertical-align: top;\n",
              "    }\n",
              "\n",
              "    .dataframe thead th {\n",
              "        text-align: right;\n",
              "    }\n",
              "</style>\n",
              "<table border=\"1\" class=\"dataframe\">\n",
              "  <thead>\n",
              "    <tr style=\"text-align: right;\">\n",
              "      <th></th>\n",
              "      <th>LotArea</th>\n",
              "      <th>OverallQual</th>\n",
              "      <th>OverallCond</th>\n",
              "      <th>YearBuilt</th>\n",
              "      <th>YearRemodAdd</th>\n",
              "      <th>ExterQual</th>\n",
              "      <th>ExterCond</th>\n",
              "      <th>BedroomAbvGr</th>\n",
              "      <th>GarageCars</th>\n",
              "      <th>PoolArea</th>\n",
              "      <th>SalePrice</th>\n",
              "      <th>Artery</th>\n",
              "    </tr>\n",
              "  </thead>\n",
              "  <tbody>\n",
              "    <tr>\n",
              "      <th>count</th>\n",
              "      <td>1460.000000</td>\n",
              "      <td>1460.000000</td>\n",
              "      <td>1460.000000</td>\n",
              "      <td>1460.000000</td>\n",
              "      <td>1460.000000</td>\n",
              "      <td>1460.00000</td>\n",
              "      <td>1460.000000</td>\n",
              "      <td>1460.000000</td>\n",
              "      <td>1460.000000</td>\n",
              "      <td>1460.000000</td>\n",
              "      <td>1460.000000</td>\n",
              "      <td>1460.000000</td>\n",
              "    </tr>\n",
              "    <tr>\n",
              "      <th>mean</th>\n",
              "      <td>10516.828082</td>\n",
              "      <td>6.099315</td>\n",
              "      <td>5.575342</td>\n",
              "      <td>50.732192</td>\n",
              "      <td>37.134247</td>\n",
              "      <td>3.39589</td>\n",
              "      <td>3.083562</td>\n",
              "      <td>2.866438</td>\n",
              "      <td>1.767123</td>\n",
              "      <td>2.758904</td>\n",
              "      <td>180921.195890</td>\n",
              "      <td>0.032877</td>\n",
              "    </tr>\n",
              "    <tr>\n",
              "      <th>std</th>\n",
              "      <td>9981.264932</td>\n",
              "      <td>1.382997</td>\n",
              "      <td>1.112799</td>\n",
              "      <td>30.202904</td>\n",
              "      <td>20.645407</td>\n",
              "      <td>0.57428</td>\n",
              "      <td>0.351054</td>\n",
              "      <td>0.815778</td>\n",
              "      <td>0.747315</td>\n",
              "      <td>40.177307</td>\n",
              "      <td>79442.502883</td>\n",
              "      <td>0.178375</td>\n",
              "    </tr>\n",
              "    <tr>\n",
              "      <th>min</th>\n",
              "      <td>1300.000000</td>\n",
              "      <td>1.000000</td>\n",
              "      <td>1.000000</td>\n",
              "      <td>12.000000</td>\n",
              "      <td>12.000000</td>\n",
              "      <td>2.00000</td>\n",
              "      <td>1.000000</td>\n",
              "      <td>0.000000</td>\n",
              "      <td>0.000000</td>\n",
              "      <td>0.000000</td>\n",
              "      <td>34900.000000</td>\n",
              "      <td>0.000000</td>\n",
              "    </tr>\n",
              "    <tr>\n",
              "      <th>25%</th>\n",
              "      <td>7553.500000</td>\n",
              "      <td>5.000000</td>\n",
              "      <td>5.000000</td>\n",
              "      <td>22.000000</td>\n",
              "      <td>18.000000</td>\n",
              "      <td>3.00000</td>\n",
              "      <td>3.000000</td>\n",
              "      <td>2.000000</td>\n",
              "      <td>1.000000</td>\n",
              "      <td>0.000000</td>\n",
              "      <td>129975.000000</td>\n",
              "      <td>0.000000</td>\n",
              "    </tr>\n",
              "    <tr>\n",
              "      <th>50%</th>\n",
              "      <td>9478.500000</td>\n",
              "      <td>6.000000</td>\n",
              "      <td>5.000000</td>\n",
              "      <td>49.000000</td>\n",
              "      <td>28.000000</td>\n",
              "      <td>3.00000</td>\n",
              "      <td>3.000000</td>\n",
              "      <td>3.000000</td>\n",
              "      <td>2.000000</td>\n",
              "      <td>0.000000</td>\n",
              "      <td>163000.000000</td>\n",
              "      <td>0.000000</td>\n",
              "    </tr>\n",
              "    <tr>\n",
              "      <th>75%</th>\n",
              "      <td>11601.500000</td>\n",
              "      <td>7.000000</td>\n",
              "      <td>6.000000</td>\n",
              "      <td>68.000000</td>\n",
              "      <td>55.000000</td>\n",
              "      <td>4.00000</td>\n",
              "      <td>3.000000</td>\n",
              "      <td>3.000000</td>\n",
              "      <td>2.000000</td>\n",
              "      <td>0.000000</td>\n",
              "      <td>214000.000000</td>\n",
              "      <td>0.000000</td>\n",
              "    </tr>\n",
              "    <tr>\n",
              "      <th>max</th>\n",
              "      <td>215245.000000</td>\n",
              "      <td>10.000000</td>\n",
              "      <td>9.000000</td>\n",
              "      <td>150.000000</td>\n",
              "      <td>72.000000</td>\n",
              "      <td>5.00000</td>\n",
              "      <td>5.000000</td>\n",
              "      <td>8.000000</td>\n",
              "      <td>4.000000</td>\n",
              "      <td>738.000000</td>\n",
              "      <td>755000.000000</td>\n",
              "      <td>1.000000</td>\n",
              "    </tr>\n",
              "  </tbody>\n",
              "</table>\n",
              "</div>\n",
              "      <button class=\"colab-df-convert\" onclick=\"convertToInteractive('df-1401128b-a85c-4d45-bc3b-b72b6ce8cc9b')\"\n",
              "              title=\"Convert this dataframe to an interactive table.\"\n",
              "              style=\"display:none;\">\n",
              "        \n",
              "  <svg xmlns=\"http://www.w3.org/2000/svg\" height=\"24px\"viewBox=\"0 0 24 24\"\n",
              "       width=\"24px\">\n",
              "    <path d=\"M0 0h24v24H0V0z\" fill=\"none\"/>\n",
              "    <path d=\"M18.56 5.44l.94 2.06.94-2.06 2.06-.94-2.06-.94-.94-2.06-.94 2.06-2.06.94zm-11 1L8.5 8.5l.94-2.06 2.06-.94-2.06-.94L8.5 2.5l-.94 2.06-2.06.94zm10 10l.94 2.06.94-2.06 2.06-.94-2.06-.94-.94-2.06-.94 2.06-2.06.94z\"/><path d=\"M17.41 7.96l-1.37-1.37c-.4-.4-.92-.59-1.43-.59-.52 0-1.04.2-1.43.59L10.3 9.45l-7.72 7.72c-.78.78-.78 2.05 0 2.83L4 21.41c.39.39.9.59 1.41.59.51 0 1.02-.2 1.41-.59l7.78-7.78 2.81-2.81c.8-.78.8-2.07 0-2.86zM5.41 20L4 18.59l7.72-7.72 1.47 1.35L5.41 20z\"/>\n",
              "  </svg>\n",
              "      </button>\n",
              "      \n",
              "  <style>\n",
              "    .colab-df-container {\n",
              "      display:flex;\n",
              "      flex-wrap:wrap;\n",
              "      gap: 12px;\n",
              "    }\n",
              "\n",
              "    .colab-df-convert {\n",
              "      background-color: #E8F0FE;\n",
              "      border: none;\n",
              "      border-radius: 50%;\n",
              "      cursor: pointer;\n",
              "      display: none;\n",
              "      fill: #1967D2;\n",
              "      height: 32px;\n",
              "      padding: 0 0 0 0;\n",
              "      width: 32px;\n",
              "    }\n",
              "\n",
              "    .colab-df-convert:hover {\n",
              "      background-color: #E2EBFA;\n",
              "      box-shadow: 0px 1px 2px rgba(60, 64, 67, 0.3), 0px 1px 3px 1px rgba(60, 64, 67, 0.15);\n",
              "      fill: #174EA6;\n",
              "    }\n",
              "\n",
              "    [theme=dark] .colab-df-convert {\n",
              "      background-color: #3B4455;\n",
              "      fill: #D2E3FC;\n",
              "    }\n",
              "\n",
              "    [theme=dark] .colab-df-convert:hover {\n",
              "      background-color: #434B5C;\n",
              "      box-shadow: 0px 1px 3px 1px rgba(0, 0, 0, 0.15);\n",
              "      filter: drop-shadow(0px 1px 2px rgba(0, 0, 0, 0.3));\n",
              "      fill: #FFFFFF;\n",
              "    }\n",
              "  </style>\n",
              "\n",
              "      <script>\n",
              "        const buttonEl =\n",
              "          document.querySelector('#df-1401128b-a85c-4d45-bc3b-b72b6ce8cc9b button.colab-df-convert');\n",
              "        buttonEl.style.display =\n",
              "          google.colab.kernel.accessAllowed ? 'block' : 'none';\n",
              "\n",
              "        async function convertToInteractive(key) {\n",
              "          const element = document.querySelector('#df-1401128b-a85c-4d45-bc3b-b72b6ce8cc9b');\n",
              "          const dataTable =\n",
              "            await google.colab.kernel.invokeFunction('convertToInteractive',\n",
              "                                                     [key], {});\n",
              "          if (!dataTable) return;\n",
              "\n",
              "          const docLinkHtml = 'Like what you see? Visit the ' +\n",
              "            '<a target=\"_blank\" href=https://colab.research.google.com/notebooks/data_table.ipynb>data table notebook</a>'\n",
              "            + ' to learn more about interactive tables.';\n",
              "          element.innerHTML = '';\n",
              "          dataTable['output_type'] = 'display_data';\n",
              "          await google.colab.output.renderOutput(dataTable, element);\n",
              "          const docLink = document.createElement('div');\n",
              "          docLink.innerHTML = docLinkHtml;\n",
              "          element.appendChild(docLink);\n",
              "        }\n",
              "      </script>\n",
              "    </div>\n",
              "  </div>\n",
              "  "
            ]
          },
          "metadata": {},
          "execution_count": 8
        }
      ]
    },
    {
      "cell_type": "code",
      "source": [
        "datos.shape"
      ],
      "metadata": {
        "colab": {
          "base_uri": "https://localhost:8080/"
        },
        "id": "H6c20C7s8Q51",
        "outputId": "17a0d784-ebe9-4f59-b13b-198a26ea5037"
      },
      "execution_count": 9,
      "outputs": [
        {
          "output_type": "execute_result",
          "data": {
            "text/plain": [
              "(1460, 12)"
            ]
          },
          "metadata": {},
          "execution_count": 9
        }
      ]
    },
    {
      "cell_type": "markdown",
      "source": [
        "###Conclusión: En este apartado se observan 1460 datos, 12 variables y ningún dato faltante. Donde las variables son LotArea que representa el area del inmueble, OverallQual el cual explica la calidad general del inmueble, OverallCond representada como la condición general del inmueble, YearBuilt es el año de construcción, YearRemodAdd es el año de remodelación, ExterQual cuyo explicando la calidad de la fachada, ExterCond representando la condición de la fachada, BedroomAbvGr es el numero de habitaciones, GarageCars es el número de garajes, PoolArea es el área de la piscina, SalePrice donde representa el precio de venta y también es la variable objetivo y por último está Artery que significa si tiene o no una árteria cerca. Todos los datos evaluados son int 64 y también se encontraron los datos minimos, maximos, la media y mediana por cada variable.\n"
      ],
      "metadata": {
        "id": "Hh_d70PQ8YsO"
      }
    },
    {
      "cell_type": "markdown",
      "source": [
        "##Verificación de duplicados"
      ],
      "metadata": {
        "id": "dWTWbXmb8hAT"
      }
    },
    {
      "cell_type": "code",
      "source": [
        "datos.duplicated().sum()"
      ],
      "metadata": {
        "colab": {
          "base_uri": "https://localhost:8080/"
        },
        "id": "RReMi9L78hkz",
        "outputId": "f185bab5-2de6-4fd7-c0b4-31212706fd13"
      },
      "execution_count": 10,
      "outputs": [
        {
          "output_type": "execute_result",
          "data": {
            "text/plain": [
              "0"
            ]
          },
          "metadata": {},
          "execution_count": 10
        }
      ]
    },
    {
      "cell_type": "code",
      "source": [
        "for i in datos.columns:\n",
        "  print(i, datos[i].nunique())"
      ],
      "metadata": {
        "colab": {
          "base_uri": "https://localhost:8080/"
        },
        "id": "F2aYXj39_Q9g",
        "outputId": "0664cc41-3c44-47ba-b568-c0a05dbe6b34"
      },
      "execution_count": 11,
      "outputs": [
        {
          "output_type": "stream",
          "name": "stdout",
          "text": [
            "LotArea 1073\n",
            "OverallQual 10\n",
            "OverallCond 9\n",
            "YearBuilt 112\n",
            "YearRemodAdd 61\n",
            "ExterQual 4\n",
            "ExterCond 5\n",
            "BedroomAbvGr 8\n",
            "GarageCars 5\n",
            "PoolArea 8\n",
            "SalePrice 663\n",
            "Artery 2\n"
          ]
        }
      ]
    },
    {
      "cell_type": "code",
      "source": [
        "for i in datos.columns:\n",
        "  print(datos[i].unique())"
      ],
      "metadata": {
        "colab": {
          "base_uri": "https://localhost:8080/"
        },
        "id": "McSuvYFpAbLp",
        "outputId": "c06a35a5-2f4c-47d2-eb85-b5b2d74ffc43"
      },
      "execution_count": 12,
      "outputs": [
        {
          "output_type": "stream",
          "name": "stdout",
          "text": [
            "[ 8450  9600 11250 ... 17217 13175  9717]\n",
            "[ 7  6  8  5  9  4 10  3  1  2]\n",
            "[5 8 6 7 4 2 3 9 1]\n",
            "[ 19  46  21 107  22  29  18  49  91  83  57  17  60  16  62  93  52  55\n",
            "  64  92  20  54  15  71  65  95 102  56  63  28  68  69  67  39  47  25\n",
            "  88  59  41  58  23  50 101  77  40  24  66  74 112  27  31  13  72  61\n",
            "  45  37  43 137 103  32  53  87  34  51  70  86  99  98  38  96  82  81\n",
            "  35  36  14 114 130 106  90 104 110  75  97 122  42  33  30  73 142  94\n",
            "  44 100  26  12  76 109  85  80  84  48 129 108 116 132 124 118 140 147\n",
            " 111 105 150 117]\n",
            "[19 46 20 52 22 27 17 49 72 57 16 60 15 62 21 55 18 14 25 63 32 67 39 42\n",
            " 56 59 35 58 50 26 24 33 69 66 54 41 30 13 40 61 29 23 37 43 45 53 64 31\n",
            " 51 70 47 12 38 36 28 34 68 65 71 44 48]\n",
            "[4 3 5 2]\n",
            "[3 4 2 1 5]\n",
            "[3 4 1 2 0 5 6 8]\n",
            "[2 3 1 0 4]\n",
            "[  0 512 648 576 555 480 519 738]\n",
            "[208500 181500 223500 140000 250000 143000 307000 200000 129900 118000\n",
            " 129500 345000 144000 279500 157000 132000 149000  90000 159000 139000\n",
            " 325300 139400 230000 154000 256300 134800 306000 207500  68500  40000\n",
            " 149350 179900 165500 277500 309000 145000 153000 109000  82000 160000\n",
            " 170000 130250 141000 319900 239686 249700 113000 127000 177000 114500\n",
            " 110000 385000 130000 180500 172500 196500 438780 124900 158000 101000\n",
            " 202500 219500 317000 180000 226000  80000 225000 244000 185000 144900\n",
            " 107400  91000 135750 136500 193500 153500 245000 126500 168500 260000\n",
            " 174000 164500  85000 123600 109900  98600 163500 133900 204750 214000\n",
            "  94750  83000 128950 205000 178000 118964 198900 169500 100000 115000\n",
            " 190000 136900 383970 217000 259500 176000 155000 320000 163990 136000\n",
            " 153900 181000  84500 128000  87000 150000 150750 220000 171000 231500\n",
            " 166000 204000 125000 105000 222500 122000 372402 235000  79000 109500\n",
            " 269500 254900 162500 412500 103200 152000 127500 325624 183500 228000\n",
            " 128500 215000 239000 163000 184000 243000 211000 501837 200100 120000\n",
            " 475000 173000 135000 153337 286000 315000 192000 148500 311872 104000\n",
            " 274900 171500 112000 143900 277000  98000 186000 252678 156000 161750\n",
            " 134450 210000 107000 311500 167240 204900  97000 386250 290000 106000\n",
            " 192500 148000 403000  94500 128200 216500  89500 185500 194500 318000\n",
            " 262500 110500 241500 137000  76500 276000 151000  73000 175500 179500\n",
            " 120500 266000 124500 201000 415298 228500 244600 179200 164700  88000\n",
            " 153575 233230 135900 131000 167000 142500 175000 158500 267000 149900\n",
            " 295000 305900  82500 360000 165600 119900 375000 188500 270000 187500\n",
            " 342643 354000 301000 126175 242000 324000 145250 214500  78000 119000\n",
            " 284000 207000 228950 377426 202900  87500 140200 151500 157500 437154\n",
            " 318061  95000 105900 177500 134000 280000 198500 147000 165000 162000\n",
            " 172400 134432 123000  61000 340000 394432 179000 187750 213500  76000\n",
            " 240000  81000 191000 426000 106500 129000  67000 241000 245500 164990\n",
            " 108000 258000 168000 339750  60000 222000 181134 149500 126000 142000\n",
            " 206300 275000 109008 195400  85400  79900 122500 212000 116000  90350\n",
            " 555000 162900 199900 119500 188000 256000 161000 263435  62383 188700\n",
            " 124000 178740 146500 187000 440000 251000 132500 208900 380000 297000\n",
            "  89471 326000 374000 164000  86000 133000 172785  91300  34900 430000\n",
            " 226700 289000 208300 164900 202665  96500 402861 265000 234000 106250\n",
            " 184750 315750 446261 200624 107500  39300 111250 272000 248000 213250\n",
            " 179665 229000 263000 112500 255500 121500 268000 325000 316600 135960\n",
            " 142600 224500 118500 146000 131500 181900 253293 369900  79500 185900\n",
            " 451950 138000 319000 114504 194201 217500 221000 359100 313000 261500\n",
            "  75500 137500 183200 105500 314813 305000 165150 139900 209500  93000\n",
            " 264561 274000 370878 143250  98300 205950 350000 145500  97500 197900\n",
            " 402000 423000 230500 173500 103600 257500 372500 159434 285000 227875\n",
            " 148800 392000 194700 755000 335000 108480 141500  89000 123500 138500\n",
            " 196000 312500 361919 213000  55000 302000 254000 179540  52000 102776\n",
            " 189000 130500 159500 341000 103000 236500 131400  93500 239900 299800\n",
            " 236000 265979 260400 275500 158900 179400 215200 337000 264132 216837\n",
            " 538000 134900 102000 395000 221500 175900 187100 161500 233000 107900\n",
            " 160200 146800 269790 143500 485000 582933 227680 135500 159950 144500\n",
            "  55993 157900 224900 271000 224000 183000 139500 232600 147400 237000\n",
            " 139950 174900 133500 189950 250580 248900 169000 200500  66500 303477\n",
            " 132250 328900 122900 154500 118858 142953 611657 125500 255000 154300\n",
            " 173733  75000  35311 238000 176500 145900 169990 193000 117500 184900\n",
            " 253000 239799 244400 150900 197500 172000 116500 214900 178900  37900\n",
            "  99500 182000 167500  85500 178400 336000 159895 255900 117000 395192\n",
            " 195000 197000 348000 173900 337500 121600 206000 232000 136905 119200\n",
            " 227000 203000 213490 194000 287000 293077 310000 119750  84000 315500\n",
            " 262280 278000 139600 556581  84900 176485 200141 185850 328000 167900\n",
            " 151400  91500 138800 155900  83500 252000  92900 176432 274725 134500\n",
            " 184100 133700 118400 212900 163900 259000 239500  94000 424870 174500\n",
            " 116900 201800 218000 235128 108959 233170 245350 625000 171900 154900\n",
            " 392500 745000 186700 104900 262000 219210 116050 271900 229456  80500\n",
            " 137900 367294 101800 138887 265900 248328 465000 186500 169900 171750\n",
            " 294000 165400 301500  99900 128900 183900 378500 381000 185750  68400\n",
            " 150500 281000 333168 206900 295493 111000 156500  72500  52500 155835\n",
            " 108500 283463 410000 156932 144152 216000 274300 466500  58500 237500\n",
            " 377500 246578 281213 137450 193879 282922 257000 223000 274970 182900\n",
            " 192140 143750  64500 394617 149700 149300 121000 179600  92000 287090\n",
            " 266500 142125 147500]\n",
            "[0 1]\n"
          ]
        }
      ]
    },
    {
      "cell_type": "markdown",
      "source": [
        "###Aquí podemos observar que todas las variables excepto Artery que es una variable categorica (True or False). "
      ],
      "metadata": {
        "id": "69u4wdErDn0F"
      }
    },
    {
      "cell_type": "markdown",
      "source": [
        "##Verificación de datos nulos"
      ],
      "metadata": {
        "id": "f_u-7HRHDZxt"
      }
    },
    {
      "cell_type": "code",
      "source": [
        "datos.isnull().sum()"
      ],
      "metadata": {
        "colab": {
          "base_uri": "https://localhost:8080/"
        },
        "id": "1S8t2ZK5B_Nw",
        "outputId": "38f51724-2c5c-47e9-caa0-dd71894219f1"
      },
      "execution_count": 13,
      "outputs": [
        {
          "output_type": "execute_result",
          "data": {
            "text/plain": [
              "LotArea         0\n",
              "OverallQual     0\n",
              "OverallCond     0\n",
              "YearBuilt       0\n",
              "YearRemodAdd    0\n",
              "ExterQual       0\n",
              "ExterCond       0\n",
              "BedroomAbvGr    0\n",
              "GarageCars      0\n",
              "PoolArea        0\n",
              "SalePrice       0\n",
              "Artery          0\n",
              "dtype: int64"
            ]
          },
          "metadata": {},
          "execution_count": 13
        }
      ]
    },
    {
      "cell_type": "markdown",
      "source": [
        "##Visualización de datos"
      ],
      "metadata": {
        "id": "I-6WWWz1FIOR"
      }
    },
    {
      "cell_type": "markdown",
      "source": [
        "##Visualización univariada"
      ],
      "metadata": {
        "id": "x0l__liyFcYZ"
      }
    },
    {
      "cell_type": "code",
      "source": [
        "sns.histplot(datos['LotArea'])"
      ],
      "metadata": {
        "colab": {
          "base_uri": "https://localhost:8080/",
          "height": 296
        },
        "id": "4D0Jd_SIHC7B",
        "outputId": "62e31217-4e36-4fc4-d6d6-74a09c8744a7"
      },
      "execution_count": 14,
      "outputs": [
        {
          "output_type": "execute_result",
          "data": {
            "text/plain": [
              "<matplotlib.axes._subplots.AxesSubplot at 0x7f0e77bb8090>"
            ]
          },
          "metadata": {},
          "execution_count": 14
        },
        {
          "output_type": "display_data",
          "data": {
            "text/plain": [
              "<Figure size 432x288 with 1 Axes>"
            ],
            "image/png": "[encoded data removed]"
          },
          "metadata": {
            "needs_background": "light"
          }
        }
      ]
    },
    {
      "cell_type": "markdown",
      "source": [
        "### La mayoria de los inmuebles se concentran en un area menor a 25000 m^2y, por lo que se concluye que la muestra de los inmuebles en general se encuentra concentrada entre 0 y 25000 m^2 y algunos datos atipicos distribuidos a lo largo de 200000 m^2, siendo esta una variable continua"
      ],
      "metadata": {
        "id": "QYSwiYM2IX_D"
      }
    },
    {
      "cell_type": "code",
      "source": [
        "categoria= datos['OverallQual'].value_counts()\n",
        "lis =[]\n",
        "for i in categoria.index:\n",
        "  lis.append(i)\n",
        "plt.bar(lis, categoria.values)"
      ],
      "metadata": {
        "colab": {
          "base_uri": "https://localhost:8080/",
          "height": 282
        },
        "id": "HK7rf6PuQv_D",
        "outputId": "a3fd49fb-9ef0-4262-9350-e089b1135949"
      },
      "execution_count": 15,
      "outputs": [
        {
          "output_type": "execute_result",
          "data": {
            "text/plain": [
              "<BarContainer object of 10 artists>"
            ]
          },
          "metadata": {},
          "execution_count": 15
        },
        {
          "output_type": "display_data",
          "data": {
            "text/plain": [
              "<Figure size 432x288 with 1 Axes>"
            ],
            "image/png": "[encoded data removed]"
          },
          "metadata": {
            "needs_background": "light"
          }
        }
      ]
    },
    {
      "cell_type": "markdown",
      "source": [
        "###Se puede observar que la calidad del del inmueble es una variable categorica, pues se enfoca en 10 posibles opciones, donde 5 y 6 es la opción más elegida, evaludada por cada inmueble."
      ],
      "metadata": {
        "id": "oCdnXHW5Yb23"
      }
    },
    {
      "cell_type": "code",
      "source": [
        "categoria= datos['OverallCond'].value_counts()\n",
        "lis =[]\n",
        "for i in categoria.index:\n",
        "  lis.append(i)\n",
        "plt.bar(lis, categoria.values)"
      ],
      "metadata": {
        "colab": {
          "base_uri": "https://localhost:8080/",
          "height": 282
        },
        "id": "pj8oIAy6HK6h",
        "outputId": "0b2658ee-226f-4a9d-a7d0-7f36226d3289"
      },
      "execution_count": 16,
      "outputs": [
        {
          "output_type": "execute_result",
          "data": {
            "text/plain": [
              "<BarContainer object of 9 artists>"
            ]
          },
          "metadata": {},
          "execution_count": 16
        },
        {
          "output_type": "display_data",
          "data": {
            "text/plain": [
              "<Figure size 432x288 with 1 Axes>"
            ],
            "image/png": "[encoded data removed]"
          },
          "metadata": {
            "needs_background": "light"
          }
        }
      ]
    },
    {
      "cell_type": "markdown",
      "source": [
        "### Las condiciones generales de los inmuebles son (al igual que la calidad del inmueble) mayormente evaluadas en la opción 5, pues representa la capacidad de la vivienda."
      ],
      "metadata": {
        "id": "umgzW2K0Ias8"
      }
    },
    {
      "cell_type": "code",
      "source": [
        "sns.histplot(datos['YearBuilt'])"
      ],
      "metadata": {
        "colab": {
          "base_uri": "https://localhost:8080/",
          "height": 296
        },
        "id": "xCSlWn0kHLNS",
        "outputId": "a4435229-2193-49e5-ed27-52c83f0aa1e5"
      },
      "execution_count": 17,
      "outputs": [
        {
          "output_type": "execute_result",
          "data": {
            "text/plain": [
              "<matplotlib.axes._subplots.AxesSubplot at 0x7f0e771a8150>"
            ]
          },
          "metadata": {},
          "execution_count": 17
        },
        {
          "output_type": "display_data",
          "data": {
            "text/plain": [
              "<Figure size 432x288 with 1 Axes>"
            ],
            "image/png": "[encoded data removed]"
          },
          "metadata": {
            "needs_background": "light"
          }
        }
      ]
    },
    {
      "cell_type": "markdown",
      "source": [
        "### La mayoria de los datos se concentran en las primeras fechas, haciendo referencia a que son más antiguas, además seignifica que dicha variable es continua."
      ],
      "metadata": {
        "id": "CcrOcChJIbZ6"
      }
    },
    {
      "cell_type": "code",
      "source": [
        "sns.histplot(datos['YearRemodAdd'])"
      ],
      "metadata": {
        "colab": {
          "base_uri": "https://localhost:8080/",
          "height": 296
        },
        "id": "aSR3EVNzHN_Z",
        "outputId": "92bc1632-6811-4568-cfe5-bb7259f7be58"
      },
      "execution_count": 18,
      "outputs": [
        {
          "output_type": "execute_result",
          "data": {
            "text/plain": [
              "<matplotlib.axes._subplots.AxesSubplot at 0x7f0e770e0490>"
            ]
          },
          "metadata": {},
          "execution_count": 18
        },
        {
          "output_type": "display_data",
          "data": {
            "text/plain": [
              "<Figure size 432x288 with 1 Axes>"
            ],
            "image/png": "[encoded data removed]"
          },
          "metadata": {
            "needs_background": "light"
          }
        }
      ]
    },
    {
      "cell_type": "markdown",
      "source": [
        "### El año de remodelación se encurntra relativamente distribuido en la mayoria de las fechas establecidad, auqnue se existe mayor concentración en 10 y 20, siendo esta una variable continua."
      ],
      "metadata": {
        "id": "V8QdT7F5Ic2U"
      }
    },
    {
      "cell_type": "code",
      "source": [
        "categoria= datos['ExterQual'].value_counts()\n",
        "lis =[]\n",
        "for i in categoria.index:\n",
        "  lis.append(i)\n",
        "plt.bar(lis, categoria.values)"
      ],
      "metadata": {
        "colab": {
          "base_uri": "https://localhost:8080/",
          "height": 282
        },
        "id": "PhKHHD3dHNxh",
        "outputId": "34a9082e-40f8-4a14-8d22-120cee5e0f7b"
      },
      "execution_count": 19,
      "outputs": [
        {
          "output_type": "execute_result",
          "data": {
            "text/plain": [
              "<BarContainer object of 4 artists>"
            ]
          },
          "metadata": {},
          "execution_count": 19
        },
        {
          "output_type": "display_data",
          "data": {
            "text/plain": [
              "<Figure size 432x288 with 1 Axes>"
            ],
            "image/png": "[encoded data removed]"
          },
          "metadata": {
            "needs_background": "light"
          }
        }
      ]
    },
    {
      "cell_type": "markdown",
      "source": [
        "### La calidad de la fachada es una variable categorica, pues es evaluada en un rango limitado cuyo rango es de 1 a 5, siendo 5 el mejor evaluado. Por otro lado se evidencia una cocnentración en 3 y se explica esta variable como una categoria."
      ],
      "metadata": {
        "id": "4HXqBROgIgTK"
      }
    },
    {
      "cell_type": "code",
      "source": [
        "categoria= datos['ExterCond'].value_counts()\n",
        "lis =[]\n",
        "for i in categoria.index:\n",
        "  lis.append(i)\n",
        "plt.bar(lis, categoria.values)"
      ],
      "metadata": {
        "colab": {
          "base_uri": "https://localhost:8080/",
          "height": 282
        },
        "id": "x9EtxmISHNk5",
        "outputId": "a8c0ec35-1cd6-4d02-c81d-df8d031ce78a"
      },
      "execution_count": 20,
      "outputs": [
        {
          "output_type": "execute_result",
          "data": {
            "text/plain": [
              "<BarContainer object of 5 artists>"
            ]
          },
          "metadata": {},
          "execution_count": 20
        },
        {
          "output_type": "display_data",
          "data": {
            "text/plain": [
              "<Figure size 432x288 with 1 Axes>"
            ],
            "image/png": "[encoded data removed]"
          },
          "metadata": {
            "needs_background": "light"
          }
        }
      ]
    },
    {
      "cell_type": "markdown",
      "source": [
        "### La condicion de la fachada esta mayormente concentrada en el 3 y es una variable categorica representada como una valoración fija."
      ],
      "metadata": {
        "id": "aSVxFo62IjCa"
      }
    },
    {
      "cell_type": "code",
      "source": [
        "sns.histplot(datos['BedroomAbvGr'])\n"
      ],
      "metadata": {
        "colab": {
          "base_uri": "https://localhost:8080/",
          "height": 296
        },
        "id": "_WgEVApDHNQx",
        "outputId": "1c887465-045e-4d09-b8bb-59df95dfea48"
      },
      "execution_count": 21,
      "outputs": [
        {
          "output_type": "execute_result",
          "data": {
            "text/plain": [
              "<matplotlib.axes._subplots.AxesSubplot at 0x7f0e76fc4e10>"
            ]
          },
          "metadata": {},
          "execution_count": 21
        },
        {
          "output_type": "display_data",
          "data": {
            "text/plain": [
              "<Figure size 432x288 with 1 Axes>"
            ],
            "image/png": "[encoded data removed]"
          },
          "metadata": {
            "needs_background": "light"
          }
        }
      ]
    },
    {
      "cell_type": "markdown",
      "source": [
        "### El numero de habitaciones es una variable continua puesto que no es una clasificación de exacata y su limite se debe al inmueble evaluado. También se encuentra mayormente concentrada en 3."
      ],
      "metadata": {
        "id": "G8dNgi7qIkEK"
      }
    },
    {
      "cell_type": "code",
      "source": [
        "sns.histplot(datos['GarageCars'])"
      ],
      "metadata": {
        "colab": {
          "base_uri": "https://localhost:8080/",
          "height": 296
        },
        "id": "H-MpE-1XHLKR",
        "outputId": "930b022e-84a3-499e-88d7-0019ab88b228"
      },
      "execution_count": 22,
      "outputs": [
        {
          "output_type": "execute_result",
          "data": {
            "text/plain": [
              "<matplotlib.axes._subplots.AxesSubplot at 0x7f0e76e5fc90>"
            ]
          },
          "metadata": {},
          "execution_count": 22
        },
        {
          "output_type": "display_data",
          "data": {
            "text/plain": [
              "<Figure size 432x288 with 1 Axes>"
            ],
            "image/png": "[encoded data removed]"
          },
          "metadata": {
            "needs_background": "light"
          }
        }
      ]
    },
    {
      "cell_type": "markdown",
      "source": [
        "### El número de garajes es una variable continua concentrada en 2."
      ],
      "metadata": {
        "id": "rH21XQo9IlES"
      }
    },
    {
      "cell_type": "code",
      "source": [
        "sns.histplot(datos['PoolArea'])"
      ],
      "metadata": {
        "colab": {
          "base_uri": "https://localhost:8080/",
          "height": 296
        },
        "id": "IPi2H3SaHMph",
        "outputId": "60f94876-cdd3-46b2-8bc1-2c843d7e62e6"
      },
      "execution_count": 23,
      "outputs": [
        {
          "output_type": "execute_result",
          "data": {
            "text/plain": [
              "<matplotlib.axes._subplots.AxesSubplot at 0x7f0e77743810>"
            ]
          },
          "metadata": {},
          "execution_count": 23
        },
        {
          "output_type": "display_data",
          "data": {
            "text/plain": [
              "<Figure size 432x288 with 1 Axes>"
            ],
            "image/png": "[encoded data removed]"
          },
          "metadata": {
            "needs_background": "light"
          }
        }
      ]
    },
    {
      "cell_type": "markdown",
      "source": [
        "### El area de la piscina se concentra en 0 aunque existen más datos en diferentes valores y se establece como una variable continua."
      ],
      "metadata": {
        "id": "E1v58pDRIlzr"
      }
    },
    {
      "cell_type": "code",
      "source": [
        "sns.histplot(datos['SalePrice'])"
      ],
      "metadata": {
        "colab": {
          "base_uri": "https://localhost:8080/",
          "height": 296
        },
        "id": "KpYE52ykHM_J",
        "outputId": "bc9ef2b9-2148-4cc8-f8b8-d73ee82123e7"
      },
      "execution_count": 24,
      "outputs": [
        {
          "output_type": "execute_result",
          "data": {
            "text/plain": [
              "<matplotlib.axes._subplots.AxesSubplot at 0x7f0e77852f90>"
            ]
          },
          "metadata": {},
          "execution_count": 24
        },
        {
          "output_type": "display_data",
          "data": {
            "text/plain": [
              "<Figure size 432x288 with 1 Axes>"
            ],
            "image/png": "[encoded data removed]"
          },
          "metadata": {
            "needs_background": "light"
          }
        }
      ]
    },
    {
      "cell_type": "markdown",
      "source": [
        "### El precio de la vivienda se establece como una variable continua y su concentración está en 15000"
      ],
      "metadata": {
        "id": "7hnDcRxsImuq"
      }
    },
    {
      "cell_type": "code",
      "source": [
        "categoria= datos['Artery'].value_counts()\n",
        "categoria.index = ['0','1']\n",
        "plt.bar(categoria.index, categoria.values)"
      ],
      "metadata": {
        "colab": {
          "base_uri": "https://localhost:8080/",
          "height": 282
        },
        "id": "Nr9UmII7Hb-k",
        "outputId": "6ff763a3-c698-48fc-8153-0eec43b08652"
      },
      "execution_count": 25,
      "outputs": [
        {
          "output_type": "execute_result",
          "data": {
            "text/plain": [
              "<BarContainer object of 2 artists>"
            ]
          },
          "metadata": {},
          "execution_count": 25
        },
        {
          "output_type": "display_data",
          "data": {
            "text/plain": [
              "<Figure size 432x288 with 1 Axes>"
            ],
            "image/png": "[encoded data removed]"
          },
          "metadata": {
            "needs_background": "light"
          }
        }
      ]
    },
    {
      "cell_type": "markdown",
      "source": [
        "### Esta variable es categorica y se concentra en 0, que significa que la mayoria de los inmuebles si viven cerca a una vía principal."
      ],
      "metadata": {
        "id": "RFWw185YInzi"
      }
    },
    {
      "cell_type": "markdown",
      "source": [
        "##Visualización bivariada"
      ],
      "metadata": {
        "id": "su65oJD_O4MP"
      }
    },
    {
      "cell_type": "code",
      "source": [
        "sns.scatterplot(data = datos, x= 'LotArea', y='SalePrice')"
      ],
      "metadata": {
        "colab": {
          "base_uri": "https://localhost:8080/",
          "height": 296
        },
        "id": "-F69poIDIVT6",
        "outputId": "9fef178e-c97b-432e-877c-434e5e7099ea"
      },
      "execution_count": 26,
      "outputs": [
        {
          "output_type": "execute_result",
          "data": {
            "text/plain": [
              "<matplotlib.axes._subplots.AxesSubplot at 0x7f0e76bf99d0>"
            ]
          },
          "metadata": {},
          "execution_count": 26
        },
        {
          "output_type": "display_data",
          "data": {
            "text/plain": [
              "<Figure size 432x288 with 1 Axes>"
            ],
            "image/png": "[encoded data removed]"
          },
          "metadata": {
            "needs_background": "light"
          }
        }
      ]
    },
    {
      "cell_type": "code",
      "source": [
        "sns.scatterplot(data = datos, x= 'YearBuilt', y='SalePrice')"
      ],
      "metadata": {
        "colab": {
          "base_uri": "https://localhost:8080/",
          "height": 296
        },
        "id": "0drY36iVVKGC",
        "outputId": "3b035de8-20a4-4ed3-bc64-cf2019ad0429"
      },
      "execution_count": 27,
      "outputs": [
        {
          "output_type": "execute_result",
          "data": {
            "text/plain": [
              "<matplotlib.axes._subplots.AxesSubplot at 0x7f0e76b746d0>"
            ]
          },
          "metadata": {},
          "execution_count": 27
        },
        {
          "output_type": "display_data",
          "data": {
            "text/plain": [
              "<Figure size 432x288 with 1 Axes>"
            ],
            "image/png": "[encoded data removed]"
          },
          "metadata": {
            "needs_background": "light"
          }
        }
      ]
    },
    {
      "cell_type": "code",
      "source": [
        "sns.scatterplot(data = datos, x= 'YearRemodAdd', y='SalePrice')"
      ],
      "metadata": {
        "colab": {
          "base_uri": "https://localhost:8080/",
          "height": 296
        },
        "id": "bS3gnKqyVRk5",
        "outputId": "4b3b0c74-6c6c-45e9-fecf-f04eebe7686f"
      },
      "execution_count": 28,
      "outputs": [
        {
          "output_type": "execute_result",
          "data": {
            "text/plain": [
              "<matplotlib.axes._subplots.AxesSubplot at 0x7f0e76af2f50>"
            ]
          },
          "metadata": {},
          "execution_count": 28
        },
        {
          "output_type": "display_data",
          "data": {
            "text/plain": [
              "<Figure size 432x288 with 1 Axes>"
            ],
            "image/png": "[encoded data removed]"
          },
          "metadata": {
            "needs_background": "light"
          }
        }
      ]
    },
    {
      "cell_type": "code",
      "source": [
        "sns.scatterplot(data = datos, x= 'PoolArea', y='SalePrice')"
      ],
      "metadata": {
        "colab": {
          "base_uri": "https://localhost:8080/",
          "height": 296
        },
        "id": "166vuHWaVaQJ",
        "outputId": "d3797b0e-925f-47a7-b61c-9d03a5a29ee2"
      },
      "execution_count": 29,
      "outputs": [
        {
          "output_type": "execute_result",
          "data": {
            "text/plain": [
              "<matplotlib.axes._subplots.AxesSubplot at 0x7f0e76b81f10>"
            ]
          },
          "metadata": {},
          "execution_count": 29
        },
        {
          "output_type": "display_data",
          "data": {
            "text/plain": [
              "<Figure size 432x288 with 1 Axes>"
            ],
            "image/png": "[encoded data removed]"
          },
          "metadata": {
            "needs_background": "light"
          }
        }
      ]
    },
    {
      "cell_type": "code",
      "source": [
        "datos.columns"
      ],
      "metadata": {
        "colab": {
          "base_uri": "https://localhost:8080/"
        },
        "id": "QHLVxPwWV3bo",
        "outputId": "b5cf2205-2428-4af2-8c25-8c48298bc4f8"
      },
      "execution_count": 30,
      "outputs": [
        {
          "output_type": "execute_result",
          "data": {
            "text/plain": [
              "Index(['LotArea', 'OverallQual', 'OverallCond', 'YearBuilt', 'YearRemodAdd',\n",
              "       'ExterQual', 'ExterCond', 'BedroomAbvGr', 'GarageCars', 'PoolArea',\n",
              "       'SalePrice', 'Artery'],\n",
              "      dtype='object')"
            ]
          },
          "metadata": {},
          "execution_count": 30
        }
      ]
    },
    {
      "cell_type": "code",
      "source": [
        "sns.boxplot(data=datos, x='OverallQual', y='SalePrice')"
      ],
      "metadata": {
        "colab": {
          "base_uri": "https://localhost:8080/",
          "height": 296
        },
        "id": "gSwrvGNZVddi",
        "outputId": "8df0e922-1ff7-4b32-a971-e332f4b13110"
      },
      "execution_count": 31,
      "outputs": [
        {
          "output_type": "execute_result",
          "data": {
            "text/plain": [
              "<matplotlib.axes._subplots.AxesSubplot at 0x7f0e76adabd0>"
            ]
          },
          "metadata": {},
          "execution_count": 31
        },
        {
          "output_type": "display_data",
          "data": {
            "text/plain": [
              "<Figure size 432x288 with 1 Axes>"
            ],
            "image/png": "[encoded data removed]"
          },
          "metadata": {
            "needs_background": "light"
          }
        }
      ]
    },
    {
      "cell_type": "code",
      "source": [
        "sns.boxplot(data=datos, x='OverallCond', y='SalePrice')"
      ],
      "metadata": {
        "colab": {
          "base_uri": "https://localhost:8080/",
          "height": 296
        },
        "id": "rSr9lKvbV43X",
        "outputId": "db6842e5-a177-428a-a66b-e68cbd4ef05b"
      },
      "execution_count": 32,
      "outputs": [
        {
          "output_type": "execute_result",
          "data": {
            "text/plain": [
              "<matplotlib.axes._subplots.AxesSubplot at 0x7f0e771b6690>"
            ]
          },
          "metadata": {},
          "execution_count": 32
        },
        {
          "output_type": "display_data",
          "data": {
            "text/plain": [
              "<Figure size 432x288 with 1 Axes>"
            ],
            "image/png": "[encoded data removed]"
          },
          "metadata": {
            "needs_background": "light"
          }
        }
      ]
    },
    {
      "cell_type": "code",
      "source": [
        "sns.boxplot(data=datos, x='ExterQual', y='SalePrice')"
      ],
      "metadata": {
        "colab": {
          "base_uri": "https://localhost:8080/",
          "height": 296
        },
        "id": "45Ylk14yWCxA",
        "outputId": "76a7f513-4a98-42a0-d4d8-7d8a9d33af9e"
      },
      "execution_count": 33,
      "outputs": [
        {
          "output_type": "execute_result",
          "data": {
            "text/plain": [
              "<matplotlib.axes._subplots.AxesSubplot at 0x7f0e76752c10>"
            ]
          },
          "metadata": {},
          "execution_count": 33
        },
        {
          "output_type": "display_data",
          "data": {
            "text/plain": [
              "<Figure size 432x288 with 1 Axes>"
            ],
            "image/png": "[encoded data removed]"
          },
          "metadata": {
            "needs_background": "light"
          }
        }
      ]
    },
    {
      "cell_type": "code",
      "source": [
        "sns.boxplot(data=datos, x='ExterCond', y='SalePrice')"
      ],
      "metadata": {
        "colab": {
          "base_uri": "https://localhost:8080/",
          "height": 296
        },
        "id": "Dm1kVNN6WL0w",
        "outputId": "0c9a4e99-06ae-4494-c250-2cf56f9edfb7"
      },
      "execution_count": 34,
      "outputs": [
        {
          "output_type": "execute_result",
          "data": {
            "text/plain": [
              "<matplotlib.axes._subplots.AxesSubplot at 0x7f0e766f3850>"
            ]
          },
          "metadata": {},
          "execution_count": 34
        },
        {
          "output_type": "display_data",
          "data": {
            "text/plain": [
              "<Figure size 432x288 with 1 Axes>"
            ],
            "image/png": "[encoded data removed]"
          },
          "metadata": {
            "needs_background": "light"
          }
        }
      ]
    },
    {
      "cell_type": "code",
      "source": [
        "sns.boxplot(data=datos, x='BedroomAbvGr', y='SalePrice')"
      ],
      "metadata": {
        "colab": {
          "base_uri": "https://localhost:8080/",
          "height": 296
        },
        "id": "qwjpYshdWPmv",
        "outputId": "cd82fbd1-d029-4af3-aa5f-ca579261ca7e"
      },
      "execution_count": 35,
      "outputs": [
        {
          "output_type": "execute_result",
          "data": {
            "text/plain": [
              "<matplotlib.axes._subplots.AxesSubplot at 0x7f0e765d6950>"
            ]
          },
          "metadata": {},
          "execution_count": 35
        },
        {
          "output_type": "display_data",
          "data": {
            "text/plain": [
              "<Figure size 432x288 with 1 Axes>"
            ],
            "image/png": "[encoded data removed]"
          },
          "metadata": {
            "needs_background": "light"
          }
        }
      ]
    },
    {
      "cell_type": "code",
      "source": [
        "sns.boxplot(data=datos, x='GarageCars', y='SalePrice')"
      ],
      "metadata": {
        "colab": {
          "base_uri": "https://localhost:8080/",
          "height": 296
        },
        "id": "208KrS4aWeOw",
        "outputId": "2825ad41-ad45-41a4-b1e3-b6787b78bbc9"
      },
      "execution_count": 36,
      "outputs": [
        {
          "output_type": "execute_result",
          "data": {
            "text/plain": [
              "<matplotlib.axes._subplots.AxesSubplot at 0x7f0e76533050>"
            ]
          },
          "metadata": {},
          "execution_count": 36
        },
        {
          "output_type": "display_data",
          "data": {
            "text/plain": [
              "<Figure size 432x288 with 1 Axes>"
            ],
            "image/png": "[encoded data removed]"
          },
          "metadata": {
            "needs_background": "light"
          }
        }
      ]
    },
    {
      "cell_type": "code",
      "source": [
        "sns.boxplot(data=datos, x='Artery', y='SalePrice')"
      ],
      "metadata": {
        "colab": {
          "base_uri": "https://localhost:8080/",
          "height": 296
        },
        "id": "WE0nUQhLWwc3",
        "outputId": "4e501336-d796-41b2-953c-cf756804a137"
      },
      "execution_count": 37,
      "outputs": [
        {
          "output_type": "execute_result",
          "data": {
            "text/plain": [
              "<matplotlib.axes._subplots.AxesSubplot at 0x7f0e7641e3d0>"
            ]
          },
          "metadata": {},
          "execution_count": 37
        },
        {
          "output_type": "display_data",
          "data": {
            "text/plain": [
              "<Figure size 432x288 with 1 Axes>"
            ],
            "image/png": "[encoded data removed]"
          },
          "metadata": {
            "needs_background": "light"
          }
        }
      ]
    },
    {
      "cell_type": "markdown",
      "source": [
        "##Análisis de correlación"
      ],
      "metadata": {
        "id": "u0WijuHqXEt4"
      }
    },
    {
      "cell_type": "code",
      "source": [
        "datos.corr('pearson')"
      ],
      "metadata": {
        "id": "ByyLqSELZC0R",
        "colab": {
          "base_uri": "https://localhost:8080/",
          "height": 426
        },
        "outputId": "79f3975f-3828-4bb5-963a-42be0419714c"
      },
      "execution_count": 38,
      "outputs": [
        {
          "output_type": "execute_result",
          "data": {
            "text/plain": [
              "               LotArea  OverallQual  OverallCond  YearBuilt  YearRemodAdd  \\\n",
              "LotArea       1.000000     0.105806    -0.005636  -0.014228     -0.013788   \n",
              "OverallQual   0.105806     1.000000    -0.091932  -0.572323     -0.550684   \n",
              "OverallCond  -0.005636    -0.091932     1.000000   0.375983     -0.073741   \n",
              "YearBuilt    -0.014228    -0.572323     0.375983   1.000000      0.592855   \n",
              "YearRemodAdd -0.013788    -0.550684    -0.073741   0.592855      1.000000   \n",
              "ExterQual     0.055570     0.726278    -0.138942  -0.598160     -0.587318   \n",
              "ExterCond     0.014732     0.013953     0.389163   0.103925     -0.074745   \n",
              "BedroomAbvGr  0.119690     0.101676     0.012980   0.070651      0.040581   \n",
              "GarageCars    0.154871     0.600671    -0.185758  -0.537850     -0.420622   \n",
              "PoolArea      0.077672     0.065166    -0.001985  -0.004950     -0.005829   \n",
              "SalePrice     0.263843     0.790982    -0.077856  -0.522897     -0.507101   \n",
              "Artery       -0.009526    -0.068812     0.080743   0.233179      0.164073   \n",
              "\n",
              "              ExterQual  ExterCond  BedroomAbvGr  GarageCars  PoolArea  \\\n",
              "LotArea        0.055570   0.014732      0.119690    0.154871  0.077672   \n",
              "OverallQual    0.726278   0.013953      0.101676    0.600671  0.065166   \n",
              "OverallCond   -0.138942   0.389163      0.012980   -0.185758 -0.001985   \n",
              "YearBuilt     -0.598160   0.103925      0.070651   -0.537850 -0.004950   \n",
              "YearRemodAdd  -0.587318  -0.074745      0.040581   -0.420622 -0.005829   \n",
              "ExterQual      1.000000   0.009184     -0.018729    0.526390  0.034766   \n",
              "ExterCond      0.009184   1.000000      0.015065   -0.009377  0.044387   \n",
              "BedroomAbvGr  -0.018729   0.015065      1.000000    0.086106  0.070703   \n",
              "GarageCars     0.526390  -0.009377      0.086106    1.000000  0.020934   \n",
              "PoolArea       0.034766   0.044387      0.070703    0.020934  1.000000   \n",
              "SalePrice      0.682639   0.018899      0.168213    0.640409  0.092404   \n",
              "Artery        -0.100382   0.076499      0.049038   -0.071068  0.036302   \n",
              "\n",
              "              SalePrice    Artery  \n",
              "LotArea        0.263843 -0.009526  \n",
              "OverallQual    0.790982 -0.068812  \n",
              "OverallCond   -0.077856  0.080743  \n",
              "YearBuilt     -0.522897  0.233179  \n",
              "YearRemodAdd  -0.507101  0.164073  \n",
              "ExterQual      0.682639 -0.100382  \n",
              "ExterCond      0.018899  0.076499  \n",
              "BedroomAbvGr   0.168213  0.049038  \n",
              "GarageCars     0.640409 -0.071068  \n",
              "PoolArea       0.092404  0.036302  \n",
              "SalePrice      1.000000 -0.106401  \n",
              "Artery        -0.106401  1.000000  "
            ],
            "text/html": [
              "\n",
              "  <div id=\"df-29582e5f-fecb-4140-a3dd-1b7bec4aead9\">\n",
              "    <div class=\"colab-df-container\">\n",
              "      <div>\n",
              "<style scoped>\n",
              "    .dataframe tbody tr th:only-of-type {\n",
              "        vertical-align: middle;\n",
              "    }\n",
              "\n",
              "    .dataframe tbody tr th {\n",
              "        vertical-align: top;\n",
              "    }\n",
              "\n",
              "    .dataframe thead th {\n",
              "        text-align: right;\n",
              "    }\n",
              "</style>\n",
              "<table border=\"1\" class=\"dataframe\">\n",
              "  <thead>\n",
              "    <tr style=\"text-align: right;\">\n",
              "      <th></th>\n",
              "      <th>LotArea</th>\n",
              "      <th>OverallQual</th>\n",
              "      <th>OverallCond</th>\n",
              "      <th>YearBuilt</th>\n",
              "      <th>YearRemodAdd</th>\n",
              "      <th>ExterQual</th>\n",
              "      <th>ExterCond</th>\n",
              "      <th>BedroomAbvGr</th>\n",
              "      <th>GarageCars</th>\n",
              "      <th>PoolArea</th>\n",
              "      <th>SalePrice</th>\n",
              "      <th>Artery</th>\n",
              "    </tr>\n",
              "  </thead>\n",
              "  <tbody>\n",
              "    <tr>\n",
              "      <th>LotArea</th>\n",
              "      <td>1.000000</td>\n",
              "      <td>0.105806</td>\n",
              "      <td>-0.005636</td>\n",
              "      <td>-0.014228</td>\n",
              "      <td>-0.013788</td>\n",
              "      <td>0.055570</td>\n",
              "      <td>0.014732</td>\n",
              "      <td>0.119690</td>\n",
              "      <td>0.154871</td>\n",
              "      <td>0.077672</td>\n",
              "      <td>0.263843</td>\n",
              "      <td>-0.009526</td>\n",
              "    </tr>\n",
              "    <tr>\n",
              "      <th>OverallQual</th>\n",
              "      <td>0.105806</td>\n",
              "      <td>1.000000</td>\n",
              "      <td>-0.091932</td>\n",
              "      <td>-0.572323</td>\n",
              "      <td>-0.550684</td>\n",
              "      <td>0.726278</td>\n",
              "      <td>0.013953</td>\n",
              "      <td>0.101676</td>\n",
              "      <td>0.600671</td>\n",
              "      <td>0.065166</td>\n",
              "      <td>0.790982</td>\n",
              "      <td>-0.068812</td>\n",
              "    </tr>\n",
              "    <tr>\n",
              "      <th>OverallCond</th>\n",
              "      <td>-0.005636</td>\n",
              "      <td>-0.091932</td>\n",
              "      <td>1.000000</td>\n",
              "      <td>0.375983</td>\n",
              "      <td>-0.073741</td>\n",
              "      <td>-0.138942</td>\n",
              "      <td>0.389163</td>\n",
              "      <td>0.012980</td>\n",
              "      <td>-0.185758</td>\n",
              "      <td>-0.001985</td>\n",
              "      <td>-0.077856</td>\n",
              "      <td>0.080743</td>\n",
              "    </tr>\n",
              "    <tr>\n",
              "      <th>YearBuilt</th>\n",
              "      <td>-0.014228</td>\n",
              "      <td>-0.572323</td>\n",
              "      <td>0.375983</td>\n",
              "      <td>1.000000</td>\n",
              "      <td>0.592855</td>\n",
              "      <td>-0.598160</td>\n",
              "      <td>0.103925</td>\n",
              "      <td>0.070651</td>\n",
              "      <td>-0.537850</td>\n",
              "      <td>-0.004950</td>\n",
              "      <td>-0.522897</td>\n",
              "      <td>0.233179</td>\n",
              "    </tr>\n",
              "    <tr>\n",
              "      <th>YearRemodAdd</th>\n",
              "      <td>-0.013788</td>\n",
              "      <td>-0.550684</td>\n",
              "      <td>-0.073741</td>\n",
              "      <td>0.592855</td>\n",
              "      <td>1.000000</td>\n",
              "      <td>-0.587318</td>\n",
              "      <td>-0.074745</td>\n",
              "      <td>0.040581</td>\n",
              "      <td>-0.420622</td>\n",
              "      <td>-0.005829</td>\n",
              "      <td>-0.507101</td>\n",
              "      <td>0.164073</td>\n",
              "    </tr>\n",
              "    <tr>\n",
              "      <th>ExterQual</th>\n",
              "      <td>0.055570</td>\n",
              "      <td>0.726278</td>\n",
              "      <td>-0.138942</td>\n",
              "      <td>-0.598160</td>\n",
              "      <td>-0.587318</td>\n",
              "      <td>1.000000</td>\n",
              "      <td>0.009184</td>\n",
              "      <td>-0.018729</td>\n",
              "      <td>0.526390</td>\n",
              "      <td>0.034766</td>\n",
              "      <td>0.682639</td>\n",
              "      <td>-0.100382</td>\n",
              "    </tr>\n",
              "    <tr>\n",
              "      <th>ExterCond</th>\n",
              "      <td>0.014732</td>\n",
              "      <td>0.013953</td>\n",
              "      <td>0.389163</td>\n",
              "      <td>0.103925</td>\n",
              "      <td>-0.074745</td>\n",
              "      <td>0.009184</td>\n",
              "      <td>1.000000</td>\n",
              "      <td>0.015065</td>\n",
              "      <td>-0.009377</td>\n",
              "      <td>0.044387</td>\n",
              "      <td>0.018899</td>\n",
              "      <td>0.076499</td>\n",
              "    </tr>\n",
              "    <tr>\n",
              "      <th>BedroomAbvGr</th>\n",
              "      <td>0.119690</td>\n",
              "      <td>0.101676</td>\n",
              "      <td>0.012980</td>\n",
              "      <td>0.070651</td>\n",
              "      <td>0.040581</td>\n",
              "      <td>-0.018729</td>\n",
              "      <td>0.015065</td>\n",
              "      <td>1.000000</td>\n",
              "      <td>0.086106</td>\n",
              "      <td>0.070703</td>\n",
              "      <td>0.168213</td>\n",
              "      <td>0.049038</td>\n",
              "    </tr>\n",
              "    <tr>\n",
              "      <th>GarageCars</th>\n",
              "      <td>0.154871</td>\n",
              "      <td>0.600671</td>\n",
              "      <td>-0.185758</td>\n",
              "      <td>-0.537850</td>\n",
              "      <td>-0.420622</td>\n",
              "      <td>0.526390</td>\n",
              "      <td>-0.009377</td>\n",
              "      <td>0.086106</td>\n",
              "      <td>1.000000</td>\n",
              "      <td>0.020934</td>\n",
              "      <td>0.640409</td>\n",
              "      <td>-0.071068</td>\n",
              "    </tr>\n",
              "    <tr>\n",
              "      <th>PoolArea</th>\n",
              "      <td>0.077672</td>\n",
              "      <td>0.065166</td>\n",
              "      <td>-0.001985</td>\n",
              "      <td>-0.004950</td>\n",
              "      <td>-0.005829</td>\n",
              "      <td>0.034766</td>\n",
              "      <td>0.044387</td>\n",
              "      <td>0.070703</td>\n",
              "      <td>0.020934</td>\n",
              "      <td>1.000000</td>\n",
              "      <td>0.092404</td>\n",
              "      <td>0.036302</td>\n",
              "    </tr>\n",
              "    <tr>\n",
              "      <th>SalePrice</th>\n",
              "      <td>0.263843</td>\n",
              "      <td>0.790982</td>\n",
              "      <td>-0.077856</td>\n",
              "      <td>-0.522897</td>\n",
              "      <td>-0.507101</td>\n",
              "      <td>0.682639</td>\n",
              "      <td>0.018899</td>\n",
              "      <td>0.168213</td>\n",
              "      <td>0.640409</td>\n",
              "      <td>0.092404</td>\n",
              "      <td>1.000000</td>\n",
              "      <td>-0.106401</td>\n",
              "    </tr>\n",
              "    <tr>\n",
              "      <th>Artery</th>\n",
              "      <td>-0.009526</td>\n",
              "      <td>-0.068812</td>\n",
              "      <td>0.080743</td>\n",
              "      <td>0.233179</td>\n",
              "      <td>0.164073</td>\n",
              "      <td>-0.100382</td>\n",
              "      <td>0.076499</td>\n",
              "      <td>0.049038</td>\n",
              "      <td>-0.071068</td>\n",
              "      <td>0.036302</td>\n",
              "      <td>-0.106401</td>\n",
              "      <td>1.000000</td>\n",
              "    </tr>\n",
              "  </tbody>\n",
              "</table>\n",
              "</div>\n",
              "      <button class=\"colab-df-convert\" onclick=\"convertToInteractive('df-29582e5f-fecb-4140-a3dd-1b7bec4aead9')\"\n",
              "              title=\"Convert this dataframe to an interactive table.\"\n",
              "              style=\"display:none;\">\n",
              "        \n",
              "  <svg xmlns=\"http://www.w3.org/2000/svg\" height=\"24px\"viewBox=\"0 0 24 24\"\n",
              "       width=\"24px\">\n",
              "    <path d=\"M0 0h24v24H0V0z\" fill=\"none\"/>\n",
              "    <path d=\"M18.56 5.44l.94 2.06.94-2.06 2.06-.94-2.06-.94-.94-2.06-.94 2.06-2.06.94zm-11 1L8.5 8.5l.94-2.06 2.06-.94-2.06-.94L8.5 2.5l-.94 2.06-2.06.94zm10 10l.94 2.06.94-2.06 2.06-.94-2.06-.94-.94-2.06-.94 2.06-2.06.94z\"/><path d=\"M17.41 7.96l-1.37-1.37c-.4-.4-.92-.59-1.43-.59-.52 0-1.04.2-1.43.59L10.3 9.45l-7.72 7.72c-.78.78-.78 2.05 0 2.83L4 21.41c.39.39.9.59 1.41.59.51 0 1.02-.2 1.41-.59l7.78-7.78 2.81-2.81c.8-.78.8-2.07 0-2.86zM5.41 20L4 18.59l7.72-7.72 1.47 1.35L5.41 20z\"/>\n",
              "  </svg>\n",
              "      </button>\n",
              "      \n",
              "  <style>\n",
              "    .colab-df-container {\n",
              "      display:flex;\n",
              "      flex-wrap:wrap;\n",
              "      gap: 12px;\n",
              "    }\n",
              "\n",
              "    .colab-df-convert {\n",
              "      background-color: #E8F0FE;\n",
              "      border: none;\n",
              "      border-radius: 50%;\n",
              "      cursor: pointer;\n",
              "      display: none;\n",
              "      fill: #1967D2;\n",
              "      height: 32px;\n",
              "      padding: 0 0 0 0;\n",
              "      width: 32px;\n",
              "    }\n",
              "\n",
              "    .colab-df-convert:hover {\n",
              "      background-color: #E2EBFA;\n",
              "      box-shadow: 0px 1px 2px rgba(60, 64, 67, 0.3), 0px 1px 3px 1px rgba(60, 64, 67, 0.15);\n",
              "      fill: #174EA6;\n",
              "    }\n",
              "\n",
              "    [theme=dark] .colab-df-convert {\n",
              "      background-color: #3B4455;\n",
              "      fill: #D2E3FC;\n",
              "    }\n",
              "\n",
              "    [theme=dark] .colab-df-convert:hover {\n",
              "      background-color: #434B5C;\n",
              "      box-shadow: 0px 1px 3px 1px rgba(0, 0, 0, 0.15);\n",
              "      filter: drop-shadow(0px 1px 2px rgba(0, 0, 0, 0.3));\n",
              "      fill: #FFFFFF;\n",
              "    }\n",
              "  </style>\n",
              "\n",
              "      <script>\n",
              "        const buttonEl =\n",
              "          document.querySelector('#df-29582e5f-fecb-4140-a3dd-1b7bec4aead9 button.colab-df-convert');\n",
              "        buttonEl.style.display =\n",
              "          google.colab.kernel.accessAllowed ? 'block' : 'none';\n",
              "\n",
              "        async function convertToInteractive(key) {\n",
              "          const element = document.querySelector('#df-29582e5f-fecb-4140-a3dd-1b7bec4aead9');\n",
              "          const dataTable =\n",
              "            await google.colab.kernel.invokeFunction('convertToInteractive',\n",
              "                                                     [key], {});\n",
              "          if (!dataTable) return;\n",
              "\n",
              "          const docLinkHtml = 'Like what you see? Visit the ' +\n",
              "            '<a target=\"_blank\" href=https://colab.research.google.com/notebooks/data_table.ipynb>data table notebook</a>'\n",
              "            + ' to learn more about interactive tables.';\n",
              "          element.innerHTML = '';\n",
              "          dataTable['output_type'] = 'display_data';\n",
              "          await google.colab.output.renderOutput(dataTable, element);\n",
              "          const docLink = document.createElement('div');\n",
              "          docLink.innerHTML = docLinkHtml;\n",
              "          element.appendChild(docLink);\n",
              "        }\n",
              "      </script>\n",
              "    </div>\n",
              "  </div>\n",
              "  "
            ]
          },
          "metadata": {},
          "execution_count": 38
        }
      ]
    },
    {
      "cell_type": "code",
      "source": [
        "datos.corr('spearman')"
      ],
      "metadata": {
        "colab": {
          "base_uri": "https://localhost:8080/",
          "height": 426
        },
        "id": "StdYIO3l8NhU",
        "outputId": "3275d066-1447-4dbc-d630-9b49e8bbfa3e"
      },
      "execution_count": 39,
      "outputs": [
        {
          "output_type": "execute_result",
          "data": {
            "text/plain": [
              "               LotArea  OverallQual  OverallCond  YearBuilt  YearRemodAdd  \\\n",
              "LotArea       1.000000     0.233303    -0.046912  -0.103385     -0.075158   \n",
              "OverallQual   0.233303     1.000000    -0.177521  -0.647392     -0.557723   \n",
              "OverallCond  -0.046912    -0.177521     1.000000   0.416964      0.041464   \n",
              "YearBuilt    -0.103385    -0.647392     0.416964   1.000000      0.684388   \n",
              "YearRemodAdd -0.075158    -0.557723     0.041464   0.684388      1.000000   \n",
              "ExterQual     0.148995     0.715988    -0.228402  -0.678997     -0.631327   \n",
              "ExterCond     0.032046    -0.015870     0.329091   0.116672     -0.043496   \n",
              "BedroomAbvGr  0.337788     0.121517    -0.003713   0.035257      0.054371   \n",
              "GarageCars    0.340195     0.608756    -0.254763  -0.601519     -0.456245   \n",
              "PoolArea      0.084460     0.056667    -0.005605  -0.008986     -0.002821   \n",
              "SalePrice     0.456461     0.809829    -0.129325  -0.652682     -0.571159   \n",
              "Artery       -0.024566    -0.081717     0.079480   0.219426      0.154949   \n",
              "\n",
              "              ExterQual  ExterCond  BedroomAbvGr  GarageCars  PoolArea  \\\n",
              "LotArea        0.148995   0.032046      0.337788    0.340195  0.084460   \n",
              "OverallQual    0.715988  -0.015870      0.121517    0.608756  0.056667   \n",
              "OverallCond   -0.228402   0.329091     -0.003713   -0.254763 -0.005605   \n",
              "YearBuilt     -0.678997   0.116672      0.035257   -0.601519 -0.008986   \n",
              "YearRemodAdd  -0.631327  -0.043496      0.054371   -0.456245 -0.002821   \n",
              "ExterQual      1.000000  -0.007822      0.010209    0.542498  0.033574   \n",
              "ExterCond     -0.007822   1.000000      0.024243   -0.036854  0.041834   \n",
              "BedroomAbvGr   0.010209   0.024243      1.000000    0.118497  0.071734   \n",
              "GarageCars     0.542498  -0.036854      0.118497    1.000000  0.021783   \n",
              "PoolArea       0.033574   0.041834      0.071734    0.021783  1.000000   \n",
              "SalePrice      0.684014   0.011682      0.234907    0.690711  0.058453   \n",
              "Artery        -0.107414   0.071515      0.030117   -0.081109  0.042658   \n",
              "\n",
              "              SalePrice    Artery  \n",
              "LotArea        0.456461 -0.024566  \n",
              "OverallQual    0.809829 -0.081717  \n",
              "OverallCond   -0.129325  0.079480  \n",
              "YearBuilt     -0.652682  0.219426  \n",
              "YearRemodAdd  -0.571159  0.154949  \n",
              "ExterQual      0.684014 -0.107414  \n",
              "ExterCond      0.011682  0.071515  \n",
              "BedroomAbvGr   0.234907  0.030117  \n",
              "GarageCars     0.690711 -0.081109  \n",
              "PoolArea       0.058453  0.042658  \n",
              "SalePrice      1.000000 -0.151573  \n",
              "Artery        -0.151573  1.000000  "
            ],
            "text/html": [
              "\n",
              "  <div id=\"df-e5f2b54b-6cc5-4c0a-9372-097241722954\">\n",
              "    <div class=\"colab-df-container\">\n",
              "      <div>\n",
              "<style scoped>\n",
              "    .dataframe tbody tr th:only-of-type {\n",
              "        vertical-align: middle;\n",
              "    }\n",
              "\n",
              "    .dataframe tbody tr th {\n",
              "        vertical-align: top;\n",
              "    }\n",
              "\n",
              "    .dataframe thead th {\n",
              "        text-align: right;\n",
              "    }\n",
              "</style>\n",
              "<table border=\"1\" class=\"dataframe\">\n",
              "  <thead>\n",
              "    <tr style=\"text-align: right;\">\n",
              "      <th></th>\n",
              "      <th>LotArea</th>\n",
              "      <th>OverallQual</th>\n",
              "      <th>OverallCond</th>\n",
              "      <th>YearBuilt</th>\n",
              "      <th>YearRemodAdd</th>\n",
              "      <th>ExterQual</th>\n",
              "      <th>ExterCond</th>\n",
              "      <th>BedroomAbvGr</th>\n",
              "      <th>GarageCars</th>\n",
              "      <th>PoolArea</th>\n",
              "      <th>SalePrice</th>\n",
              "      <th>Artery</th>\n",
              "    </tr>\n",
              "  </thead>\n",
              "  <tbody>\n",
              "    <tr>\n",
              "      <th>LotArea</th>\n",
              "      <td>1.000000</td>\n",
              "      <td>0.233303</td>\n",
              "      <td>-0.046912</td>\n",
              "      <td>-0.103385</td>\n",
              "      <td>-0.075158</td>\n",
              "      <td>0.148995</td>\n",
              "      <td>0.032046</td>\n",
              "      <td>0.337788</td>\n",
              "      <td>0.340195</td>\n",
              "      <td>0.084460</td>\n",
              "      <td>0.456461</td>\n",
              "      <td>-0.024566</td>\n",
              "    </tr>\n",
              "    <tr>\n",
              "      <th>OverallQual</th>\n",
              "      <td>0.233303</td>\n",
              "      <td>1.000000</td>\n",
              "      <td>-0.177521</td>\n",
              "      <td>-0.647392</td>\n",
              "      <td>-0.557723</td>\n",
              "      <td>0.715988</td>\n",
              "      <td>-0.015870</td>\n",
              "      <td>0.121517</td>\n",
              "      <td>0.608756</td>\n",
              "      <td>0.056667</td>\n",
              "      <td>0.809829</td>\n",
              "      <td>-0.081717</td>\n",
              "    </tr>\n",
              "    <tr>\n",
              "      <th>OverallCond</th>\n",
              "      <td>-0.046912</td>\n",
              "      <td>-0.177521</td>\n",
              "      <td>1.000000</td>\n",
              "      <td>0.416964</td>\n",
              "      <td>0.041464</td>\n",
              "      <td>-0.228402</td>\n",
              "      <td>0.329091</td>\n",
              "      <td>-0.003713</td>\n",
              "      <td>-0.254763</td>\n",
              "      <td>-0.005605</td>\n",
              "      <td>-0.129325</td>\n",
              "      <td>0.079480</td>\n",
              "    </tr>\n",
              "    <tr>\n",
              "      <th>YearBuilt</th>\n",
              "      <td>-0.103385</td>\n",
              "      <td>-0.647392</td>\n",
              "      <td>0.416964</td>\n",
              "      <td>1.000000</td>\n",
              "      <td>0.684388</td>\n",
              "      <td>-0.678997</td>\n",
              "      <td>0.116672</td>\n",
              "      <td>0.035257</td>\n",
              "      <td>-0.601519</td>\n",
              "      <td>-0.008986</td>\n",
              "      <td>-0.652682</td>\n",
              "      <td>0.219426</td>\n",
              "    </tr>\n",
              "    <tr>\n",
              "      <th>YearRemodAdd</th>\n",
              "      <td>-0.075158</td>\n",
              "      <td>-0.557723</td>\n",
              "      <td>0.041464</td>\n",
              "      <td>0.684388</td>\n",
              "      <td>1.000000</td>\n",
              "      <td>-0.631327</td>\n",
              "      <td>-0.043496</td>\n",
              "      <td>0.054371</td>\n",
              "      <td>-0.456245</td>\n",
              "      <td>-0.002821</td>\n",
              "      <td>-0.571159</td>\n",
              "      <td>0.154949</td>\n",
              "    </tr>\n",
              "    <tr>\n",
              "      <th>ExterQual</th>\n",
              "      <td>0.148995</td>\n",
              "      <td>0.715988</td>\n",
              "      <td>-0.228402</td>\n",
              "      <td>-0.678997</td>\n",
              "      <td>-0.631327</td>\n",
              "      <td>1.000000</td>\n",
              "      <td>-0.007822</td>\n",
              "      <td>0.010209</td>\n",
              "      <td>0.542498</td>\n",
              "      <td>0.033574</td>\n",
              "      <td>0.684014</td>\n",
              "      <td>-0.107414</td>\n",
              "    </tr>\n",
              "    <tr>\n",
              "      <th>ExterCond</th>\n",
              "      <td>0.032046</td>\n",
              "      <td>-0.015870</td>\n",
              "      <td>0.329091</td>\n",
              "      <td>0.116672</td>\n",
              "      <td>-0.043496</td>\n",
              "      <td>-0.007822</td>\n",
              "      <td>1.000000</td>\n",
              "      <td>0.024243</td>\n",
              "      <td>-0.036854</td>\n",
              "      <td>0.041834</td>\n",
              "      <td>0.011682</td>\n",
              "      <td>0.071515</td>\n",
              "    </tr>\n",
              "    <tr>\n",
              "      <th>BedroomAbvGr</th>\n",
              "      <td>0.337788</td>\n",
              "      <td>0.121517</td>\n",
              "      <td>-0.003713</td>\n",
              "      <td>0.035257</td>\n",
              "      <td>0.054371</td>\n",
              "      <td>0.010209</td>\n",
              "      <td>0.024243</td>\n",
              "      <td>1.000000</td>\n",
              "      <td>0.118497</td>\n",
              "      <td>0.071734</td>\n",
              "      <td>0.234907</td>\n",
              "      <td>0.030117</td>\n",
              "    </tr>\n",
              "    <tr>\n",
              "      <th>GarageCars</th>\n",
              "      <td>0.340195</td>\n",
              "      <td>0.608756</td>\n",
              "      <td>-0.254763</td>\n",
              "      <td>-0.601519</td>\n",
              "      <td>-0.456245</td>\n",
              "      <td>0.542498</td>\n",
              "      <td>-0.036854</td>\n",
              "      <td>0.118497</td>\n",
              "      <td>1.000000</td>\n",
              "      <td>0.021783</td>\n",
              "      <td>0.690711</td>\n",
              "      <td>-0.081109</td>\n",
              "    </tr>\n",
              "    <tr>\n",
              "      <th>PoolArea</th>\n",
              "      <td>0.084460</td>\n",
              "      <td>0.056667</td>\n",
              "      <td>-0.005605</td>\n",
              "      <td>-0.008986</td>\n",
              "      <td>-0.002821</td>\n",
              "      <td>0.033574</td>\n",
              "      <td>0.041834</td>\n",
              "      <td>0.071734</td>\n",
              "      <td>0.021783</td>\n",
              "      <td>1.000000</td>\n",
              "      <td>0.058453</td>\n",
              "      <td>0.042658</td>\n",
              "    </tr>\n",
              "    <tr>\n",
              "      <th>SalePrice</th>\n",
              "      <td>0.456461</td>\n",
              "      <td>0.809829</td>\n",
              "      <td>-0.129325</td>\n",
              "      <td>-0.652682</td>\n",
              "      <td>-0.571159</td>\n",
              "      <td>0.684014</td>\n",
              "      <td>0.011682</td>\n",
              "      <td>0.234907</td>\n",
              "      <td>0.690711</td>\n",
              "      <td>0.058453</td>\n",
              "      <td>1.000000</td>\n",
              "      <td>-0.151573</td>\n",
              "    </tr>\n",
              "    <tr>\n",
              "      <th>Artery</th>\n",
              "      <td>-0.024566</td>\n",
              "      <td>-0.081717</td>\n",
              "      <td>0.079480</td>\n",
              "      <td>0.219426</td>\n",
              "      <td>0.154949</td>\n",
              "      <td>-0.107414</td>\n",
              "      <td>0.071515</td>\n",
              "      <td>0.030117</td>\n",
              "      <td>-0.081109</td>\n",
              "      <td>0.042658</td>\n",
              "      <td>-0.151573</td>\n",
              "      <td>1.000000</td>\n",
              "    </tr>\n",
              "  </tbody>\n",
              "</table>\n",
              "</div>\n",
              "      <button class=\"colab-df-convert\" onclick=\"convertToInteractive('df-e5f2b54b-6cc5-4c0a-9372-097241722954')\"\n",
              "              title=\"Convert this dataframe to an interactive table.\"\n",
              "              style=\"display:none;\">\n",
              "        \n",
              "  <svg xmlns=\"http://www.w3.org/2000/svg\" height=\"24px\"viewBox=\"0 0 24 24\"\n",
              "       width=\"24px\">\n",
              "    <path d=\"M0 0h24v24H0V0z\" fill=\"none\"/>\n",
              "    <path d=\"M18.56 5.44l.94 2.06.94-2.06 2.06-.94-2.06-.94-.94-2.06-.94 2.06-2.06.94zm-11 1L8.5 8.5l.94-2.06 2.06-.94-2.06-.94L8.5 2.5l-.94 2.06-2.06.94zm10 10l.94 2.06.94-2.06 2.06-.94-2.06-.94-.94-2.06-.94 2.06-2.06.94z\"/><path d=\"M17.41 7.96l-1.37-1.37c-.4-.4-.92-.59-1.43-.59-.52 0-1.04.2-1.43.59L10.3 9.45l-7.72 7.72c-.78.78-.78 2.05 0 2.83L4 21.41c.39.39.9.59 1.41.59.51 0 1.02-.2 1.41-.59l7.78-7.78 2.81-2.81c.8-.78.8-2.07 0-2.86zM5.41 20L4 18.59l7.72-7.72 1.47 1.35L5.41 20z\"/>\n",
              "  </svg>\n",
              "      </button>\n",
              "      \n",
              "  <style>\n",
              "    .colab-df-container {\n",
              "      display:flex;\n",
              "      flex-wrap:wrap;\n",
              "      gap: 12px;\n",
              "    }\n",
              "\n",
              "    .colab-df-convert {\n",
              "      background-color: #E8F0FE;\n",
              "      border: none;\n",
              "      border-radius: 50%;\n",
              "      cursor: pointer;\n",
              "      display: none;\n",
              "      fill: #1967D2;\n",
              "      height: 32px;\n",
              "      padding: 0 0 0 0;\n",
              "      width: 32px;\n",
              "    }\n",
              "\n",
              "    .colab-df-convert:hover {\n",
              "      background-color: #E2EBFA;\n",
              "      box-shadow: 0px 1px 2px rgba(60, 64, 67, 0.3), 0px 1px 3px 1px rgba(60, 64, 67, 0.15);\n",
              "      fill: #174EA6;\n",
              "    }\n",
              "\n",
              "    [theme=dark] .colab-df-convert {\n",
              "      background-color: #3B4455;\n",
              "      fill: #D2E3FC;\n",
              "    }\n",
              "\n",
              "    [theme=dark] .colab-df-convert:hover {\n",
              "      background-color: #434B5C;\n",
              "      box-shadow: 0px 1px 3px 1px rgba(0, 0, 0, 0.15);\n",
              "      filter: drop-shadow(0px 1px 2px rgba(0, 0, 0, 0.3));\n",
              "      fill: #FFFFFF;\n",
              "    }\n",
              "  </style>\n",
              "\n",
              "      <script>\n",
              "        const buttonEl =\n",
              "          document.querySelector('#df-e5f2b54b-6cc5-4c0a-9372-097241722954 button.colab-df-convert');\n",
              "        buttonEl.style.display =\n",
              "          google.colab.kernel.accessAllowed ? 'block' : 'none';\n",
              "\n",
              "        async function convertToInteractive(key) {\n",
              "          const element = document.querySelector('#df-e5f2b54b-6cc5-4c0a-9372-097241722954');\n",
              "          const dataTable =\n",
              "            await google.colab.kernel.invokeFunction('convertToInteractive',\n",
              "                                                     [key], {});\n",
              "          if (!dataTable) return;\n",
              "\n",
              "          const docLinkHtml = 'Like what you see? Visit the ' +\n",
              "            '<a target=\"_blank\" href=https://colab.research.google.com/notebooks/data_table.ipynb>data table notebook</a>'\n",
              "            + ' to learn more about interactive tables.';\n",
              "          element.innerHTML = '';\n",
              "          dataTable['output_type'] = 'display_data';\n",
              "          await google.colab.output.renderOutput(dataTable, element);\n",
              "          const docLink = document.createElement('div');\n",
              "          docLink.innerHTML = docLinkHtml;\n",
              "          element.appendChild(docLink);\n",
              "        }\n",
              "      </script>\n",
              "    </div>\n",
              "  </div>\n",
              "  "
            ]
          },
          "metadata": {},
          "execution_count": 39
        }
      ]
    },
    {
      "cell_type": "markdown",
      "source": [
        "##Modelamiento"
      ],
      "metadata": {
        "id": "QpLsT5-T8miB"
      }
    },
    {
      "cell_type": "code",
      "source": [
        "x = datos[['Artery', 'LotArea', 'BedroomAbvGr', 'GarageCars', 'YearBuilt', 'OverallCond']]"
      ],
      "metadata": {
        "id": "MlHP-hGC-CGU"
      },
      "execution_count": 41,
      "outputs": []
    },
    {
      "cell_type": "code",
      "source": [
        "y = datos['SalePrice'] "
      ],
      "metadata": {
        "id": "Am9rFnf3-HBr"
      },
      "execution_count": 42,
      "outputs": []
    },
    {
      "cell_type": "code",
      "source": [
        "sm.OLS(y, x).fit().summary()"
      ],
      "metadata": {
        "colab": {
          "base_uri": "https://localhost:8080/",
          "height": 580
        },
        "id": "bJy-cghNJHC8",
        "outputId": "08fae0cf-71db-47f8-842b-d45a5c4692ca"
      },
      "execution_count": 57,
      "outputs": [
        {
          "output_type": "execute_result",
          "data": {
            "text/plain": [
              "<class 'statsmodels.iolib.summary.Summary'>\n",
              "\"\"\"\n",
              "                                 OLS Regression Results                                \n",
              "=======================================================================================\n",
              "Dep. Variable:              SalePrice   R-squared (uncentered):                   0.922\n",
              "Model:                            OLS   Adj. R-squared (uncentered):              0.921\n",
              "Method:                 Least Squares   F-statistic:                              2853.\n",
              "Date:                Sat, 22 Oct 2022   Prob (F-statistic):                        0.00\n",
              "Time:                        00:45:05   Log-Likelihood:                         -18015.\n",
              "No. Observations:                1460   AIC:                                  3.604e+04\n",
              "Df Residuals:                    1454   BIC:                                  3.607e+04\n",
              "Df Model:                           6                                                  \n",
              "Covariance Type:            nonrobust                                                  \n",
              "================================================================================\n",
              "                   coef    std err          t      P>|t|      [0.025      0.975]\n",
              "--------------------------------------------------------------------------------\n",
              "Artery       -7388.8986   8363.014     -0.884      0.377   -2.38e+04    9015.963\n",
              "LotArea          1.4044      0.148      9.470      0.000       1.113       1.695\n",
              "BedroomAbvGr  1.571e+04   1646.392      9.544      0.000    1.25e+04    1.89e+04\n",
              "GarageCars    5.137e+04   2093.376     24.541      0.000    4.73e+04    5.55e+04\n",
              "YearBuilt     -841.1538     61.378    -13.704      0.000    -961.553    -720.754\n",
              "OverallCond     1.3e+04   1047.251     12.410      0.000    1.09e+04    1.51e+04\n",
              "==============================================================================\n",
              "Omnibus:                      705.807   Durbin-Watson:                   1.996\n",
              "Prob(Omnibus):                  0.000   Jarque-Bera (JB):             7380.981\n",
              "Skew:                           1.994   Prob(JB):                         0.00\n",
              "Kurtosis:                      13.268   Cond. No.                     8.36e+04\n",
              "==============================================================================\n",
              "\n",
              "Notes:\n",
              "[1] R² is computed without centering (uncentered) since the model does not contain a constant.\n",
              "[2] Standard Errors assume that the covariance matrix of the errors is correctly specified.\n",
              "[3] The condition number is large, 8.36e+04. This might indicate that there are\n",
              "strong multicollinearity or other numerical problems.\n",
              "\"\"\""
            ],
            "text/html": [
              "<table class=\"simpletable\">\n",
              "<caption>OLS Regression Results</caption>\n",
              "<tr>\n",
              "  <th>Dep. Variable:</th>        <td>SalePrice</td>    <th>  R-squared (uncentered):</th>      <td>   0.922</td> \n",
              "</tr>\n",
              "<tr>\n",
              "  <th>Model:</th>                   <td>OLS</td>       <th>  Adj. R-squared (uncentered):</th> <td>   0.921</td> \n",
              "</tr>\n",
              "<tr>\n",
              "  <th>Method:</th>             <td>Least Squares</td>  <th>  F-statistic:       </th>          <td>   2853.</td> \n",
              "</tr>\n",
              "<tr>\n",
              "  <th>Date:</th>             <td>Sat, 22 Oct 2022</td> <th>  Prob (F-statistic):</th>           <td>  0.00</td>  \n",
              "</tr>\n",
              "<tr>\n",
              "  <th>Time:</th>                 <td>00:45:05</td>     <th>  Log-Likelihood:    </th>          <td> -18015.</td> \n",
              "</tr>\n",
              "<tr>\n",
              "  <th>No. Observations:</th>      <td>  1460</td>      <th>  AIC:               </th>          <td>3.604e+04</td>\n",
              "</tr>\n",
              "<tr>\n",
              "  <th>Df Residuals:</th>          <td>  1454</td>      <th>  BIC:               </th>          <td>3.607e+04</td>\n",
              "</tr>\n",
              "<tr>\n",
              "  <th>Df Model:</th>              <td>     6</td>      <th>                     </th>              <td> </td>    \n",
              "</tr>\n",
              "<tr>\n",
              "  <th>Covariance Type:</th>      <td>nonrobust</td>    <th>                     </th>              <td> </td>    \n",
              "</tr>\n",
              "</table>\n",
              "<table class=\"simpletable\">\n",
              "<tr>\n",
              "        <td></td>          <th>coef</th>     <th>std err</th>      <th>t</th>      <th>P>|t|</th>  <th>[0.025</th>    <th>0.975]</th>  \n",
              "</tr>\n",
              "<tr>\n",
              "  <th>Artery</th>       <td>-7388.8986</td> <td> 8363.014</td> <td>   -0.884</td> <td> 0.377</td> <td>-2.38e+04</td> <td> 9015.963</td>\n",
              "</tr>\n",
              "<tr>\n",
              "  <th>LotArea</th>      <td>    1.4044</td> <td>    0.148</td> <td>    9.470</td> <td> 0.000</td> <td>    1.113</td> <td>    1.695</td>\n",
              "</tr>\n",
              "<tr>\n",
              "  <th>BedroomAbvGr</th> <td> 1.571e+04</td> <td> 1646.392</td> <td>    9.544</td> <td> 0.000</td> <td> 1.25e+04</td> <td> 1.89e+04</td>\n",
              "</tr>\n",
              "<tr>\n",
              "  <th>GarageCars</th>   <td> 5.137e+04</td> <td> 2093.376</td> <td>   24.541</td> <td> 0.000</td> <td> 4.73e+04</td> <td> 5.55e+04</td>\n",
              "</tr>\n",
              "<tr>\n",
              "  <th>YearBuilt</th>    <td> -841.1538</td> <td>   61.378</td> <td>  -13.704</td> <td> 0.000</td> <td> -961.553</td> <td> -720.754</td>\n",
              "</tr>\n",
              "<tr>\n",
              "  <th>OverallCond</th>  <td>   1.3e+04</td> <td> 1047.251</td> <td>   12.410</td> <td> 0.000</td> <td> 1.09e+04</td> <td> 1.51e+04</td>\n",
              "</tr>\n",
              "</table>\n",
              "<table class=\"simpletable\">\n",
              "<tr>\n",
              "  <th>Omnibus:</th>       <td>705.807</td> <th>  Durbin-Watson:     </th> <td>   1.996</td>\n",
              "</tr>\n",
              "<tr>\n",
              "  <th>Prob(Omnibus):</th> <td> 0.000</td>  <th>  Jarque-Bera (JB):  </th> <td>7380.981</td>\n",
              "</tr>\n",
              "<tr>\n",
              "  <th>Skew:</th>          <td> 1.994</td>  <th>  Prob(JB):          </th> <td>    0.00</td>\n",
              "</tr>\n",
              "<tr>\n",
              "  <th>Kurtosis:</th>      <td>13.268</td>  <th>  Cond. No.          </th> <td>8.36e+04</td>\n",
              "</tr>\n",
              "</table><br/><br/>Notes:<br/>[1] R² is computed without centering (uncentered) since the model does not contain a constant.<br/>[2] Standard Errors assume that the covariance matrix of the errors is correctly specified.<br/>[3] The condition number is large, 8.36e+04. This might indicate that there are<br/>strong multicollinearity or other numerical problems."
            ]
          },
          "metadata": {},
          "execution_count": 57
        }
      ]
    },
    {
      "cell_type": "markdown",
      "source": [
        "##Interpretación del modelo"
      ],
      "metadata": {
        "id": "LBn3FkpyOVL8"
      }
    },
    {
      "cell_type": "markdown",
      "source": [
        "###Se evidencia un efecto negativo de la existencia de una arteria vial cerca del inmueble, por lo que una vivienda cerca de una vía principal disminuiría su precio, el área del lote por su parte representa un efecto positivo sobre el precio del inmueble, el número de habitaciones también representa un efecto positivo sobre el precio del inmueble, lo mismo ocurre con el número de garaje, el cual incrementa el precio de la vivienda a medida que aumenta el número de estos, por otro lado, ocurre el efecto contrario cuando se trata de los años de antigüedad, puesto que  medida que la vivienda tiene más años de antigüedad esta va reduciendo su precio, la condición de la vivienda produce un efecto positivo sobre el precio final de la vivienda\n"
      ],
      "metadata": {
        "id": "dKkOt8DtQpCo"
      }
    },
    {
      "cell_type": "markdown",
      "source": [
        "##Conclusiones generales"
      ],
      "metadata": {
        "id": "WJlDZ5ewVmHB"
      }
    },
    {
      "cell_type": "markdown",
      "source": [
        "Dentro del análisis de los datos presentes en el dataset se resalta el efecto negativo que produce la existencia de una arteria vial sobre el precio de la vivienda, puesto que lo que indica el modelo es que dicho efecto es negativo, siendo contrario a lo que se presumiría inicialmente lo cual seria que la existencia de dicha arteria significa un crecimiento en el precio del inmueble. Por otro lado, con respecto a las demás variables dependientes, se produce el efecto que se esperaría sobre el precio del inmueble"
      ],
      "metadata": {
        "id": "BShk3fTpVuJ1"
      }
    },
    {
      "cell_type": "code",
      "source": [],
      "metadata": {
        "id": "a4pHrabxXv3-"
      },
      "execution_count": null,
      "outputs": []
    }
  ]
}